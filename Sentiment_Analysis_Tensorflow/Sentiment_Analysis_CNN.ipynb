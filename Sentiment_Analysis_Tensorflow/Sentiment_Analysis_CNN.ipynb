{
 "cells": [
  {
   "cell_type": "code",
   "execution_count": 1,
   "metadata": {},
   "outputs": [
    {
     "name": "stderr",
     "output_type": "stream",
     "text": [
      "Using TensorFlow backend.\n"
     ]
    }
   ],
   "source": [
    "import pandas as pd\n",
    "import numpy as np\n",
    "import re\n",
    "import string\n",
    "import tensorflow as tf\n",
    "import matplotlib.pyplot as plt\n",
    "import os\n",
    "from gensim.models import Word2Vec\n",
    "from gensim.utils import simple_preprocess\n",
    "from gensim.models.keyedvectors import KeyedVectors\n",
    "from keras.activations import relu\n",
    "from keras.models import Sequential, Model\n",
    "from keras.layers import Input, Dense, Embedding, Flatten, Conv1D, MaxPooling1D\n",
    "from keras.layers import Dropout, concatenate\n",
    "from keras.utils.vis_utils import model_to_dot\n",
    "from sklearn.metrics import classification_report"
   ]
  },
  {
   "cell_type": "code",
   "execution_count": 2,
   "metadata": {},
   "outputs": [],
   "source": [
    "snippet_file  = 'original_rt_snippets.txt'\n",
    "positive_file = 'rt-polarity_pos.pos'\n",
    "negative_file = 'rt-polarity_neg.neg'\n",
    "sentences_for_data = pd.read_csv('datasetSentences.txt',sep = \"\\t\",header = 0)\n",
    "splitdata = pd.read_csv('datasetSplit.txt', delimiter = \",\", header = 0)"
   ]
  },
  {
   "cell_type": "code",
   "execution_count": 3,
   "metadata": {},
   "outputs": [],
   "source": [
    "snippet_file_list = []\n",
    "filesnippet = open(\"original_snipp.txt\",\"w+\")\n",
    "filesnippet.seek(0)\n",
    "filesnippet.truncate()\n",
    "with open(snippet_file, 'rt', encoding = 'latin-1') as f:\n",
    "    for each_line in f:\n",
    "        each_line = each_line.lower()                     \n",
    "        each_line = re.sub('<.*?>', '',each_line) \n",
    "        each_line = re.sub('<[a-zA-Z]','',each_line)      \n",
    "        each_line = re.sub(r'[^\\w]','',each_line)         \n",
    "        each_line = re.sub(r'[0-9]','',each_line)\n",
    "        each_line = re.sub(r'[^\\x00-\\x7f]','',each_line)  \n",
    "        snippet_file_list.append(each_line)\n",
    "        filesnippet.write(each_line+\"\\n\")\n",
    "filesnippet.close()"
   ]
  },
  {
   "cell_type": "code",
   "execution_count": 4,
   "metadata": {},
   "outputs": [],
   "source": [
    "positivefile=[]\n",
    "fileforpositive = open(\"Positive_Labels.txt\",\"w+\")\n",
    "fileforpositive.seek(0)\n",
    "fileforpositive.truncate()\n",
    "with open(positive_file,'rt',encoding='latin-1') as f:\n",
    "    for each_line in f:\n",
    "        each_line = each_line.lower()                     \n",
    "        each_line = re.sub('<.*?>', '',each_line)         \n",
    "        each_line = re.sub('<[a-zA-Z]','',each_line)      \n",
    "        each_line = re.sub(r'[^\\w]','',each_line)\n",
    "        each_line = re.sub(r'[0-9]','',each_line)         \n",
    "        each_line = re.sub(r'[^\\x00-\\x7f]','',each_line)  # removes non ascii characters\n",
    "        positivefile.append(each_line)\n",
    "        fileforpositive.write(each_line+\"\\n\")\n",
    "fileforpositive.close()"
   ]
  },
  {
   "cell_type": "code",
   "execution_count": 5,
   "metadata": {},
   "outputs": [],
   "source": [
    "negativefile=[]\n",
    "filefornegative = open(\"negative_labels.txt\",\"w+\")\n",
    "filefornegative.seek(0)\n",
    "filefornegative.truncate()\n",
    "with open(negative_file,'rt',encoding='latin-1') as f:\n",
    "    for each_line in f:\n",
    "        each_line = each_line.lower()\n",
    "        each_line = re.sub('<.*?>', '',each_line)\n",
    "        each_line = re.sub('<[a-zA-Z]','',each_line)        \n",
    "        each_line = re.sub(r'[^\\w]','',each_line)\n",
    "        each_line = re.sub(r'[0-9]','',each_line)\n",
    "        each_line = re.sub(r'[^\\x00-\\x7f]','',each_line)\n",
    "        negativefile.append(each_line)\n",
    "        filefornegative.write(each_line+\"\\n\")\n",
    "filefornegative.close()"
   ]
  },
  {
   "cell_type": "code",
   "execution_count": 6,
   "metadata": {},
   "outputs": [],
   "source": [
    "labels_for_test = []\n",
    "for line in snippet_file_list:\n",
    "    if any(line == text for text in positivefile):\n",
    "        labels_for_test.append(1)\n",
    "    elif any(line == text for text in negativefile):\n",
    "        labels_for_test.append(0)\n",
    "    #Through by lot of preprocessing process we get to know that there is one sentence which doesn't belong to any of the files \n",
    "    elif line ==\"ihavenoproblemwithdifficultmoviesormoviesthatasktheaudiencetomeetthemhalfwayandconnectthedotsinsteadofhavingthingsallspelledoutbutfirstyouhavetogivetheaudienceareasontowanttoputforthateffort\" :\n",
    "        labels_for_test.append(0)\n",
    "    else:\n",
    "        print (line )"
   ]
  },
  {
   "cell_type": "code",
   "execution_count": 7,
   "metadata": {},
   "outputs": [],
   "source": [
    "def IndexPositionWithOriginalFile(each_sentence, original_snippet_sentences):\n",
    "    for indexposition in range(len(original_snippet_sentences)):\n",
    "        if each_sentence in original_snippet_sentences[indexposition]:\n",
    "            return indexposition "
   ]
  },
  {
   "cell_type": "code",
   "execution_count": 8,
   "metadata": {},
   "outputs": [],
   "source": [
    "def filtering_sentence(each_sentence):\n",
    "    each_sentence= each_sentence.lower()\n",
    "    each_sentence = re.sub(r'[^\\w]','',each_sentence)\n",
    "    each_sentence = re.sub(r'[0-9]','',each_sentence)\n",
    "    each_sentence = re.sub(r'[^\\x00-\\x7f]','',each_sentence)\n",
    "    each_sentence = each_sentence.replace(\"lrb\", \"\")\n",
    "    each_sentence = each_sentence.replace(\"rrb\",\"\")\n",
    "    return each_sentence\n"
   ]
  },
  {
   "cell_type": "code",
   "execution_count": 9,
   "metadata": {},
   "outputs": [],
   "source": [
    "labels=[]\n",
    "filefordataset = open(\"dataset.txt\",\"w+\")\n",
    "for each_sentence in list(sentences_for_data[\"sentence\"].values):\n",
    "    each_sentence= filtering_sentence(each_sentence)\n",
    "    filefordataset.write(each_sentence+\"\\n\")\n",
    "    index = IndexPositionWithOriginalFile(each_sentence,snippet_file_list)\n",
    "    labels.append(labels_for_test[index])\n",
    "    snippet_file_list[index]= snippet_file_list[index].replace(each_sentence,\"$$\",1)  # Removes the sentence that has been matched already to avoid confusion and match with the correct original_snippet when same set of characters appear again.\n",
    "filefordataset.close()\n",
    "sentences_for_data[\"labels\"]=labels"
   ]
  },
  {
   "cell_type": "code",
   "execution_count": 10,
   "metadata": {},
   "outputs": [
    {
     "data": {
      "text/plain": [
       "0        1\n",
       "1        1\n",
       "2        1\n",
       "3        1\n",
       "4        1\n",
       "        ..\n",
       "11850    0\n",
       "11851    0\n",
       "11852    1\n",
       "11853    0\n",
       "11854    0\n",
       "Name: labels, Length: 11855, dtype: int64"
      ]
     },
     "execution_count": 10,
     "metadata": {},
     "output_type": "execute_result"
    }
   ],
   "source": [
    "sentences_for_data['labels']"
   ]
  },
  {
   "cell_type": "code",
   "execution_count": 11,
   "metadata": {},
   "outputs": [
    {
     "data": {
      "text/plain": [
       "11855"
      ]
     },
     "execution_count": 11,
     "metadata": {},
     "output_type": "execute_result"
    }
   ],
   "source": [
    "len(splitdata)"
   ]
  },
  {
   "cell_type": "code",
   "execution_count": 12,
   "metadata": {},
   "outputs": [
    {
     "data": {
      "text/plain": [
       "11855"
      ]
     },
     "execution_count": 12,
     "metadata": {},
     "output_type": "execute_result"
    }
   ],
   "source": [
    "len(sentences_for_data)"
   ]
  },
  {
   "cell_type": "markdown",
   "metadata": {},
   "source": [
    "# Creating Word Embeddings"
   ]
  },
  {
   "cell_type": "code",
   "execution_count": 13,
   "metadata": {},
   "outputs": [],
   "source": [
    "#Inserting all the texts into list\n",
    "listoftexts,listwords=[],[]\n",
    "for line in sentences_for_data['sentence']:\n",
    "        exclude = set(string.punctuation)\n",
    "        line = ''.join(ch for ch in line if ch not in exclude)\n",
    "        listwords=[]\n",
    "        for word in line.split():\n",
    "            listwords.append(word)\n",
    "        listoftexts.append(listwords)"
   ]
  },
  {
   "cell_type": "code",
   "execution_count": 14,
   "metadata": {},
   "outputs": [],
   "source": [
    "#Arranging train_indexes,test_indexes and dev_indexes to split the data accordingly\n",
    "train_indexes,test_indexes,dev_indexes=[],[],[]\n",
    "for k,i in enumerate(splitdata['splitset_label']):\n",
    "    if i==1:\n",
    "        train_indexes.append(k+1)\n",
    "    if i==2:\n",
    "        test_indexes.append(k+1)\n",
    "    if i==3:\n",
    "        dev_indexes.append(k+1)\n"
   ]
  },
  {
   "cell_type": "code",
   "execution_count": 15,
   "metadata": {},
   "outputs": [],
   "source": [
    "#Inserting all labels into one list\n",
    "all_labels=[]\n",
    "for i in sentences_for_data['labels']:\n",
    "    all_labels.append(i)  "
   ]
  },
  {
   "cell_type": "code",
   "execution_count": 16,
   "metadata": {},
   "outputs": [],
   "source": [
    "#Inserting all the class labels into different indexes accordingly\n",
    "y_train,y_dev,y_test=[],[],[]\n",
    "for i in train_indexes:\n",
    "    y_train.append(all_labels[i-1])\n",
    "for i in dev_indexes:\n",
    "    y_dev.append(all_labels[i-1])\n",
    "for i in test_indexes:\n",
    "    y_test.append(all_labels[i-1])"
   ]
  },
  {
   "cell_type": "code",
   "execution_count": 17,
   "metadata": {},
   "outputs": [
    {
     "name": "stdout",
     "output_type": "stream",
     "text": [
      "Found 19377 unique tokens.\n"
     ]
    }
   ],
   "source": [
    "#Splitting each text into tokens and padding corrrespondingly\n",
    "from keras.preprocessing.text import Tokenizer\n",
    "from keras.preprocessing.sequence import pad_sequences\n",
    "\n",
    "tokenizer = Tokenizer()\n",
    "tokenizer.fit_on_texts(listoftexts)\n",
    "sequences = tokenizer.texts_to_sequences(listoftexts)\n",
    "\n",
    "word_index = tokenizer.word_index\n",
    "print('Found %s unique tokens.' % len(word_index))\n",
    "\n",
    "data = pad_sequences(sequences)"
   ]
  },
  {
   "cell_type": "code",
   "execution_count": 18,
   "metadata": {},
   "outputs": [],
   "source": [
    "#Arranging the data which were padded according to Train,test and Dev\n",
    "X_train,X_dev,X_test=[],[],[]\n",
    "for i in train_indexes:\n",
    "    X_train.append(list(data[i-1]))\n",
    "for i in dev_indexes:\n",
    "    X_dev.append(list(data[i-1]))\n",
    "for i in test_indexes:\n",
    "    X_test.append(list(data[i-1]))"
   ]
  },
  {
   "cell_type": "code",
   "execution_count": 19,
   "metadata": {},
   "outputs": [
    {
     "name": "stdout",
     "output_type": "stream",
     "text": [
      "Found 400000 word vectors.\n"
     ]
    }
   ],
   "source": [
    "#Creating the embeddings Index to create embeddings matrix\n",
    "embeddings_index = {}\n",
    "f = open(r'C:\\Users\\srika\\OneDrive\\Desktop\\Fall19\\DeepLearningForNLP\\Assignment2\\glove.6B.300d.txt',encoding='utf8')\n",
    "for line in f:\n",
    "    values = line.split()\n",
    "    word = values[0]\n",
    "    coefs = np.asarray(values[1:], dtype='float32')\n",
    "    embeddings_index[word] = coefs\n",
    "f.close()\n",
    "\n",
    "print('Found %s word vectors.' % len(embeddings_index))"
   ]
  },
  {
   "cell_type": "code",
   "execution_count": 20,
   "metadata": {},
   "outputs": [],
   "source": [
    "#Forming Embedding Matrix\n",
    "embedding_matrix = np.zeros((len(word_index) + 1, 300))\n",
    "for word, i in word_index.items():\n",
    "    embedding_vector = embeddings_index.get(word)\n",
    "    if embedding_vector is not None:\n",
    "        # words not found in embedding index will be all-zeros.\n",
    "        embedding_matrix[i] = embedding_vector\n"
   ]
  },
  {
   "cell_type": "code",
   "execution_count": 21,
   "metadata": {},
   "outputs": [],
   "source": [
    "#Creating the embedding layer\n",
    "from keras.layers import Embedding\n",
    "def get_embeddings_layer(embeddings_matrix, name, max_len, trainable=False):\n",
    "    embedding_layer = Embedding(\n",
    "        input_dim=embeddings_matrix.shape[0],\n",
    "        output_dim=embeddings_matrix.shape[1],\n",
    "        input_length=max_len,\n",
    "        weights=[embeddings_matrix],\n",
    "        trainable=trainable,\n",
    "        name=name)\n",
    "    return embedding_layer"
   ]
  },
  {
   "cell_type": "code",
   "execution_count": 22,
   "metadata": {},
   "outputs": [],
   "source": [
    "def get_conv_pool(x_input, max_len, sufix, n_grams=[3,4,5], feature_maps=100):\n",
    "    branches = []\n",
    "    for n in n_grams:\n",
    "        branch = Conv1D(filters=feature_maps, kernel_size=n, activation=relu, name='Conv_'+sufix+'_'+str(n))(x_input)\n",
    "        branch = MaxPooling1D(pool_size=max_len-n+1, strides=None, padding='valid', name='MaxPooling_'+sufix+'_'+str(n))(branch)\n",
    "        branch = Flatten(name='Flatten_'+sufix+'_'+str(n))(branch)\n",
    "        branches.append(branch)\n",
    "    return branches"
   ]
  },
  {
   "cell_type": "markdown",
   "metadata": {},
   "source": [
    "# CNN_rand: All words were randomly initialized and then modified during training\n"
   ]
  },
  {
   "cell_type": "code",
   "execution_count": 23,
   "metadata": {},
   "outputs": [],
   "source": [
    "def get_cnn_rand(embedding_dim=300, vocab_size=(len(word_index)+1), max_len=52):\n",
    "    # create the embedding layer\n",
    "    embedding_matrix_cnn_rand = np.random.rand(vocab_size, embedding_dim)\n",
    "    embedding_layer = get_embeddings_layer(embedding_matrix_cnn_rand, 'embedding_layer_dynamic', max_len, trainable=True)\n",
    "\n",
    "    # connect the input with the embedding layer\n",
    "    i = Input(shape=(max_len,), dtype='int32', name='main_input')\n",
    "    x = embedding_layer(i)\n",
    "\n",
    "    # generate several branches in the network, each for a different convolution+pooling operation,\n",
    "    # and concatenate the result of each branch into a single vector\n",
    "    branches = get_conv_pool(x, max_len, 'dynamic')\n",
    "    z = concatenate(branches, axis=-1)\n",
    "    z = Dropout(0.5)(z)\n",
    "\n",
    "    # pass the concatenated vector to the predition layer\n",
    "    o = Dense(1, activation='sigmoid', name='output')(z)\n",
    "\n",
    "    model = Model(inputs=i, outputs=o)\n",
    "    model.compile(loss={'output': 'binary_crossentropy'}, optimizer='adam',metrics=[\"accuracy\"])\n",
    "\n",
    "    return model"
   ]
  },
  {
   "cell_type": "code",
   "execution_count": 24,
   "metadata": {},
   "outputs": [],
   "source": [
    "model_cnn_rand=get_cnn_rand()"
   ]
  },
  {
   "cell_type": "code",
   "execution_count": 25,
   "metadata": {},
   "outputs": [
    {
     "name": "stderr",
     "output_type": "stream",
     "text": [
      "C:\\Python37\\lib\\site-packages\\tensorflow_core\\python\\framework\\indexed_slices.py:424: UserWarning: Converting sparse IndexedSlices to a dense Tensor of unknown shape. This may consume a large amount of memory.\n",
      "  \"Converting sparse IndexedSlices to a dense Tensor of unknown shape. \"\n"
     ]
    },
    {
     "name": "stdout",
     "output_type": "stream",
     "text": [
      "Train on 8544 samples, validate on 1101 samples\n",
      "Epoch 1/10\n",
      "8544/8544 [==============================] - 7s 863us/step - loss: 1.8519 - accuracy: 0.5030 - val_loss: 1.5371 - val_accuracy: 0.5050\n",
      "Epoch 2/10\n",
      "8544/8544 [==============================] - 7s 803us/step - loss: 1.0755 - accuracy: 0.4998 - val_loss: 0.9768 - val_accuracy: 0.5050\n",
      "Epoch 3/10\n",
      "8544/8544 [==============================] - 7s 804us/step - loss: 0.8518 - accuracy: 0.5137 - val_loss: 0.7166 - val_accuracy: 0.5050\n",
      "Epoch 4/10\n",
      "8544/8544 [==============================] - 7s 815us/step - loss: 0.7435 - accuracy: 0.5273 - val_loss: 0.6855 - val_accuracy: 0.5395\n",
      "Epoch 5/10\n",
      "8544/8544 [==============================] - 7s 842us/step - loss: 0.6813 - accuracy: 0.5741 - val_loss: 0.6887 - val_accuracy: 0.5168\n",
      "Epoch 6/10\n",
      "8544/8544 [==============================] - 8s 879us/step - loss: 0.6669 - accuracy: 0.5905 - val_loss: 0.6764 - val_accuracy: 0.6031\n",
      "Epoch 7/10\n",
      "8544/8544 [==============================] - 11s 1ms/step - loss: 0.6514 - accuracy: 0.6364 - val_loss: 0.6783 - val_accuracy: 0.5595\n",
      "Epoch 8/10\n",
      "8544/8544 [==============================] - 11s 1ms/step - loss: 0.6393 - accuracy: 0.6574 - val_loss: 0.6840 - val_accuracy: 0.5250\n",
      "Epoch 9/10\n",
      "8544/8544 [==============================] - 7s 820us/step - loss: 0.6318 - accuracy: 0.6628 - val_loss: 0.6709 - val_accuracy: 0.5995\n",
      "Epoch 10/10\n",
      "8544/8544 [==============================] - 7s 845us/step - loss: 0.6158 - accuracy: 0.7040 - val_loss: 0.6689 - val_accuracy: 0.5831\n"
     ]
    }
   ],
   "source": [
    "history=model_cnn_rand.fit(np.array(X_train),np.array(y_train),batch_size=1024,epochs=10,validation_data=(np.array(X_dev),np.array(y_dev)))"
   ]
  },
  {
   "cell_type": "code",
   "execution_count": 26,
   "metadata": {},
   "outputs": [
    {
     "data": {
      "text/html": [
       "<div>\n",
       "<style scoped>\n",
       "    .dataframe tbody tr th:only-of-type {\n",
       "        vertical-align: middle;\n",
       "    }\n",
       "\n",
       "    .dataframe tbody tr th {\n",
       "        vertical-align: top;\n",
       "    }\n",
       "\n",
       "    .dataframe thead th {\n",
       "        text-align: right;\n",
       "    }\n",
       "</style>\n",
       "<table border=\"1\" class=\"dataframe\">\n",
       "  <thead>\n",
       "    <tr style=\"text-align: right;\">\n",
       "      <th></th>\n",
       "      <th>val_loss</th>\n",
       "      <th>val_accuracy</th>\n",
       "      <th>loss</th>\n",
       "      <th>accuracy</th>\n",
       "    </tr>\n",
       "  </thead>\n",
       "  <tbody>\n",
       "    <tr>\n",
       "      <td>0</td>\n",
       "      <td>1.537074</td>\n",
       "      <td>0.504995</td>\n",
       "      <td>1.851905</td>\n",
       "      <td>0.503043</td>\n",
       "    </tr>\n",
       "    <tr>\n",
       "      <td>1</td>\n",
       "      <td>0.976781</td>\n",
       "      <td>0.504995</td>\n",
       "      <td>1.075509</td>\n",
       "      <td>0.499766</td>\n",
       "    </tr>\n",
       "    <tr>\n",
       "      <td>2</td>\n",
       "      <td>0.716588</td>\n",
       "      <td>0.504995</td>\n",
       "      <td>0.851807</td>\n",
       "      <td>0.513694</td>\n",
       "    </tr>\n",
       "    <tr>\n",
       "      <td>3</td>\n",
       "      <td>0.685511</td>\n",
       "      <td>0.539510</td>\n",
       "      <td>0.743455</td>\n",
       "      <td>0.527271</td>\n",
       "    </tr>\n",
       "    <tr>\n",
       "      <td>4</td>\n",
       "      <td>0.688650</td>\n",
       "      <td>0.516803</td>\n",
       "      <td>0.681260</td>\n",
       "      <td>0.574087</td>\n",
       "    </tr>\n",
       "    <tr>\n",
       "      <td>5</td>\n",
       "      <td>0.676416</td>\n",
       "      <td>0.603088</td>\n",
       "      <td>0.666890</td>\n",
       "      <td>0.590473</td>\n",
       "    </tr>\n",
       "    <tr>\n",
       "      <td>6</td>\n",
       "      <td>0.678265</td>\n",
       "      <td>0.559491</td>\n",
       "      <td>0.651406</td>\n",
       "      <td>0.636353</td>\n",
       "    </tr>\n",
       "    <tr>\n",
       "      <td>7</td>\n",
       "      <td>0.684006</td>\n",
       "      <td>0.524977</td>\n",
       "      <td>0.639292</td>\n",
       "      <td>0.657420</td>\n",
       "    </tr>\n",
       "    <tr>\n",
       "      <td>8</td>\n",
       "      <td>0.670856</td>\n",
       "      <td>0.599455</td>\n",
       "      <td>0.631819</td>\n",
       "      <td>0.662804</td>\n",
       "    </tr>\n",
       "    <tr>\n",
       "      <td>9</td>\n",
       "      <td>0.668891</td>\n",
       "      <td>0.583106</td>\n",
       "      <td>0.615840</td>\n",
       "      <td>0.704003</td>\n",
       "    </tr>\n",
       "  </tbody>\n",
       "</table>\n",
       "</div>"
      ],
      "text/plain": [
       "   val_loss  val_accuracy      loss  accuracy\n",
       "0  1.537074      0.504995  1.851905  0.503043\n",
       "1  0.976781      0.504995  1.075509  0.499766\n",
       "2  0.716588      0.504995  0.851807  0.513694\n",
       "3  0.685511      0.539510  0.743455  0.527271\n",
       "4  0.688650      0.516803  0.681260  0.574087\n",
       "5  0.676416      0.603088  0.666890  0.590473\n",
       "6  0.678265      0.559491  0.651406  0.636353\n",
       "7  0.684006      0.524977  0.639292  0.657420\n",
       "8  0.670856      0.599455  0.631819  0.662804\n",
       "9  0.668891      0.583106  0.615840  0.704003"
      ]
     },
     "execution_count": 26,
     "metadata": {},
     "output_type": "execute_result"
    }
   ],
   "source": [
    "hist = pd.DataFrame(history.history)\n",
    "hist"
   ]
  },
  {
   "cell_type": "code",
   "execution_count": 27,
   "metadata": {},
   "outputs": [
    {
     "data": {
      "image/png": "[encoded data removed]",
      "text/plain": [
       "<Figure size 432x288 with 1 Axes>"
      ]
     },
     "metadata": {
      "needs_background": "light"
     },
     "output_type": "display_data"
    },
    {
     "data": {
      "image/png": "[encoded data removed]",
      "text/plain": [
       "<Figure size 432x288 with 1 Axes>"
      ]
     },
     "metadata": {
      "needs_background": "light"
     },
     "output_type": "display_data"
    }
   ],
   "source": [
    "hist = pd.DataFrame(history.history)\n",
    "hist['epoch'] = history.epoch\n",
    "def plot_history(history):\n",
    "    \n",
    "      hist = pd.DataFrame(history.history)\n",
    "      hist['epoch'] = history.epoch\n",
    "\n",
    "      plt.figure()\n",
    "      plt.xlabel('Epoch')\n",
    "      plt.ylabel('Accuracy')\n",
    "      plt.plot(hist['epoch'], hist['accuracy'],\n",
    "               label='Train Accuracy')\n",
    "      plt.plot(hist['epoch'], hist['val_accuracy'],\n",
    "               label = 'Val Accuracy')\n",
    "      plt.ylim([0,1])\n",
    "      plt.legend()\n",
    "\n",
    "      plt.figure()\n",
    "      plt.xlabel('Epoch')\n",
    "      plt.ylabel('loss')\n",
    "      plt.plot(hist['epoch'], hist['loss'],\n",
    "               label='Train Loss')\n",
    "      plt.plot(hist['epoch'], hist['val_loss'],\n",
    "               label = 'Val Loss')\n",
    "      plt.ylim([0,5])\n",
    "      plt.legend()\n",
    "\n",
    "      plt.show()\n",
    "plot_history(history)\n",
    "\n"
   ]
  },
  {
   "cell_type": "markdown",
   "metadata": {},
   "source": [
    "In the above model by tuning all the hyper parameters I get to know batch size plays a key role among all others because when I have taken smaller batch size the validaion accuracy is around 65 but when i increase the batch size and want to train the modeL.The training accuracy as well as validation accuracy gets increased.This is due to smaller batch sizes not only has faster training dynamics but also generalization to the test dataset versus larger batch sizes."
   ]
  },
  {
   "cell_type": "markdown",
   "metadata": {},
   "source": [
    "# CNN-Static:Pre-trained vectors with all the words including the unknown ones that are randomly initialized-kept static and only the other parameters of the model are learned"
   ]
  },
  {
   "cell_type": "code",
   "execution_count": 28,
   "metadata": {},
   "outputs": [],
   "source": [
    "embedding_layer = get_embeddings_layer(embedding_matrix, 'embedding_layer_static', 52, trainable=False)"
   ]
  },
  {
   "cell_type": "code",
   "execution_count": 29,
   "metadata": {},
   "outputs": [],
   "source": [
    "def get_cnn_pre_trained_embeddings(embedding_layer, max_len):\n",
    "    # connect the input with the embedding layer\n",
    "    i = Input(shape=(max_len,), dtype='int32', name='main_input')\n",
    "    x = embedding_layer(i)\n",
    "\n",
    "    # generate several branches in the network, each for a different convolution+pooling operation,\n",
    "    # and concatenate the result of each branch into a single vector\n",
    "    branches = get_conv_pool(x, max_len, 'static')\n",
    "    z = concatenate(branches, axis=-1)\n",
    "\n",
    "    # pass the concatenated vector to the predition layer\n",
    "    o = Dense(1, activation='sigmoid', name='output')(z)\n",
    "\n",
    "    model = Model(inputs=i, outputs=o)\n",
    "    model.compile(loss={'output': 'binary_crossentropy'}, optimizer='adam',metrics=[\"accuracy\"])\n",
    "\n",
    "    return model"
   ]
  },
  {
   "cell_type": "code",
   "execution_count": 30,
   "metadata": {},
   "outputs": [],
   "source": [
    "model_cnn_static = get_cnn_pre_trained_embeddings(embedding_layer, 52)"
   ]
  },
  {
   "cell_type": "code",
   "execution_count": 31,
   "metadata": {},
   "outputs": [
    {
     "name": "stdout",
     "output_type": "stream",
     "text": [
      "Train on 8544 samples, validate on 1101 samples\n",
      "Epoch 1/5\n",
      "8544/8544 [==============================] - 5s 620us/step - loss: 0.7088 - accuracy: 0.5756 - val_loss: 0.6116 - val_accuracy: 0.6403\n",
      "Epoch 2/5\n",
      "8544/8544 [==============================] - 5s 613us/step - loss: 0.5462 - accuracy: 0.7252 - val_loss: 0.5481 - val_accuracy: 0.7103\n",
      "Epoch 3/5\n",
      "8544/8544 [==============================] - 5s 616us/step - loss: 0.4823 - accuracy: 0.7759 - val_loss: 0.5198 - val_accuracy: 0.7430\n",
      "Epoch 4/5\n",
      "8544/8544 [==============================] - 5s 618us/step - loss: 0.4361 - accuracy: 0.8117 - val_loss: 0.5012 - val_accuracy: 0.7584\n",
      "Epoch 5/5\n",
      "8544/8544 [==============================] - 5s 611us/step - loss: 0.4002 - accuracy: 0.8408 - val_loss: 0.4961 - val_accuracy: 0.7584\n"
     ]
    }
   ],
   "source": [
    "history=model_cnn_static.fit(np.array(X_train),np.array(y_train),batch_size=1024,epochs=5,validation_data=(np.array(X_dev),np.array(y_dev)))"
   ]
  },
  {
   "cell_type": "code",
   "execution_count": 32,
   "metadata": {},
   "outputs": [
    {
     "data": {
      "text/html": [
       "<div>\n",
       "<style scoped>\n",
       "    .dataframe tbody tr th:only-of-type {\n",
       "        vertical-align: middle;\n",
       "    }\n",
       "\n",
       "    .dataframe tbody tr th {\n",
       "        vertical-align: top;\n",
       "    }\n",
       "\n",
       "    .dataframe thead th {\n",
       "        text-align: right;\n",
       "    }\n",
       "</style>\n",
       "<table border=\"1\" class=\"dataframe\">\n",
       "  <thead>\n",
       "    <tr style=\"text-align: right;\">\n",
       "      <th></th>\n",
       "      <th>val_loss</th>\n",
       "      <th>val_accuracy</th>\n",
       "      <th>loss</th>\n",
       "      <th>accuracy</th>\n",
       "    </tr>\n",
       "  </thead>\n",
       "  <tbody>\n",
       "    <tr>\n",
       "      <td>0</td>\n",
       "      <td>0.611639</td>\n",
       "      <td>0.640327</td>\n",
       "      <td>0.708806</td>\n",
       "      <td>0.575609</td>\n",
       "    </tr>\n",
       "    <tr>\n",
       "      <td>1</td>\n",
       "      <td>0.548053</td>\n",
       "      <td>0.710263</td>\n",
       "      <td>0.546235</td>\n",
       "      <td>0.725187</td>\n",
       "    </tr>\n",
       "    <tr>\n",
       "      <td>2</td>\n",
       "      <td>0.519824</td>\n",
       "      <td>0.742961</td>\n",
       "      <td>0.482284</td>\n",
       "      <td>0.775866</td>\n",
       "    </tr>\n",
       "    <tr>\n",
       "      <td>3</td>\n",
       "      <td>0.501202</td>\n",
       "      <td>0.758401</td>\n",
       "      <td>0.436083</td>\n",
       "      <td>0.811681</td>\n",
       "    </tr>\n",
       "    <tr>\n",
       "      <td>4</td>\n",
       "      <td>0.496077</td>\n",
       "      <td>0.758401</td>\n",
       "      <td>0.400203</td>\n",
       "      <td>0.840824</td>\n",
       "    </tr>\n",
       "  </tbody>\n",
       "</table>\n",
       "</div>"
      ],
      "text/plain": [
       "   val_loss  val_accuracy      loss  accuracy\n",
       "0  0.611639      0.640327  0.708806  0.575609\n",
       "1  0.548053      0.710263  0.546235  0.725187\n",
       "2  0.519824      0.742961  0.482284  0.775866\n",
       "3  0.501202      0.758401  0.436083  0.811681\n",
       "4  0.496077      0.758401  0.400203  0.840824"
      ]
     },
     "execution_count": 32,
     "metadata": {},
     "output_type": "execute_result"
    }
   ],
   "source": [
    "hist = pd.DataFrame(history.history)\n",
    "hist"
   ]
  },
  {
   "cell_type": "code",
   "execution_count": 33,
   "metadata": {},
   "outputs": [
    {
     "data": {
      "image/png": "[encoded data removed]",
      "text/plain": [
       "<Figure size 432x288 with 1 Axes>"
      ]
     },
     "metadata": {
      "needs_background": "light"
     },
     "output_type": "display_data"
    },
    {
     "data": {
      "image/png": "[encoded data removed]",
      "text/plain": [
       "<Figure size 432x288 with 1 Axes>"
      ]
     },
     "metadata": {
      "needs_background": "light"
     },
     "output_type": "display_data"
    }
   ],
   "source": [
    "hist = pd.DataFrame(history.history)\n",
    "hist['epoch'] = history.epoch\n",
    "def plot_history(history):\n",
    "    \n",
    "      hist = pd.DataFrame(history.history)\n",
    "      hist['epoch'] = history.epoch\n",
    "\n",
    "      plt.figure()\n",
    "      plt.xlabel('Epoch')\n",
    "      plt.ylabel('Accuracy')\n",
    "      plt.plot(hist['epoch'], hist['accuracy'],\n",
    "               label='Train Accuracy')\n",
    "      plt.plot(hist['epoch'], hist['val_accuracy'],\n",
    "               label = 'Val Accuracy')\n",
    "      plt.ylim([0,1])\n",
    "      plt.legend()\n",
    "\n",
    "      plt.figure()\n",
    "      plt.xlabel('Epoch')\n",
    "      plt.ylabel('loss')\n",
    "      plt.plot(hist['epoch'], hist['loss'],\n",
    "               label='Train Loss')\n",
    "      plt.plot(hist['epoch'], hist['val_loss'],\n",
    "               label = 'Val Loss')\n",
    "      plt.ylim([0,5])\n",
    "      plt.legend()\n",
    "\n",
    "      plt.show()\n",
    "plot_history(history)\n",
    "\n"
   ]
  },
  {
   "cell_type": "markdown",
   "metadata": {},
   "source": [
    "In this model the word embeddings actually uses glove word embeddings through that they wont get trained because we were giving trainable as false. So they won't get trained in the initial stage when we check in the below layers all will be mentioned as static. When we check for the accuracy how good they are there isn't much change that i have observed when i changed n_grams or kernel size but changing batch_size changes a lot."
   ]
  },
  {
   "cell_type": "markdown",
   "metadata": {},
   "source": [
    "# CNN_Non_Static:In this model the word vectors will get trained"
   ]
  },
  {
   "cell_type": "code",
   "execution_count": 34,
   "metadata": {},
   "outputs": [],
   "source": [
    "embedding_layer_cnn_nonstatic = get_embeddings_layer(embedding_matrix, 'embedding_layer_dynamic', 52, trainable=True)\n",
    "model_cnn_non_static = get_cnn_pre_trained_embeddings(embedding_layer_cnn_nonstatic, 52)"
   ]
  },
  {
   "cell_type": "code",
   "execution_count": 35,
   "metadata": {},
   "outputs": [
    {
     "name": "stderr",
     "output_type": "stream",
     "text": [
      "C:\\Python37\\lib\\site-packages\\tensorflow_core\\python\\framework\\indexed_slices.py:424: UserWarning: Converting sparse IndexedSlices to a dense Tensor of unknown shape. This may consume a large amount of memory.\n",
      "  \"Converting sparse IndexedSlices to a dense Tensor of unknown shape. \"\n"
     ]
    },
    {
     "name": "stdout",
     "output_type": "stream",
     "text": [
      "Train on 8544 samples, validate on 1101 samples\n",
      "Epoch 1/5\n",
      "8544/8544 [==============================] - 7s 862us/step - loss: 0.7123 - accuracy: 0.5689 - val_loss: 0.6297 - val_accuracy: 0.6176\n",
      "Epoch 2/5\n",
      "8544/8544 [==============================] - 7s 861us/step - loss: 0.5358 - accuracy: 0.7355 - val_loss: 0.5516 - val_accuracy: 0.7094\n",
      "Epoch 3/5\n",
      "8544/8544 [==============================] - 7s 852us/step - loss: 0.4482 - accuracy: 0.8050 - val_loss: 0.5121 - val_accuracy: 0.7475\n",
      "Epoch 4/5\n",
      "8544/8544 [==============================] - 7s 860us/step - loss: 0.3825 - accuracy: 0.8565 - val_loss: 0.4954 - val_accuracy: 0.7611\n",
      "Epoch 5/5\n",
      "8544/8544 [==============================] - 7s 870us/step - loss: 0.3307 - accuracy: 0.8878 - val_loss: 0.4862 - val_accuracy: 0.7711\n"
     ]
    }
   ],
   "source": [
    "history=model_cnn_non_static.fit(np.array(X_train),np.array(y_train),batch_size=1024,epochs=5,validation_data=(np.array(X_dev),np.array(y_dev)))"
   ]
  },
  {
   "cell_type": "code",
   "execution_count": 36,
   "metadata": {},
   "outputs": [
    {
     "data": {
      "text/html": [
       "<div>\n",
       "<style scoped>\n",
       "    .dataframe tbody tr th:only-of-type {\n",
       "        vertical-align: middle;\n",
       "    }\n",
       "\n",
       "    .dataframe tbody tr th {\n",
       "        vertical-align: top;\n",
       "    }\n",
       "\n",
       "    .dataframe thead th {\n",
       "        text-align: right;\n",
       "    }\n",
       "</style>\n",
       "<table border=\"1\" class=\"dataframe\">\n",
       "  <thead>\n",
       "    <tr style=\"text-align: right;\">\n",
       "      <th></th>\n",
       "      <th>val_loss</th>\n",
       "      <th>val_accuracy</th>\n",
       "      <th>loss</th>\n",
       "      <th>accuracy</th>\n",
       "    </tr>\n",
       "  </thead>\n",
       "  <tbody>\n",
       "    <tr>\n",
       "      <td>0</td>\n",
       "      <td>0.629749</td>\n",
       "      <td>0.617620</td>\n",
       "      <td>0.712251</td>\n",
       "      <td>0.568937</td>\n",
       "    </tr>\n",
       "    <tr>\n",
       "      <td>1</td>\n",
       "      <td>0.551643</td>\n",
       "      <td>0.709355</td>\n",
       "      <td>0.535763</td>\n",
       "      <td>0.735487</td>\n",
       "    </tr>\n",
       "    <tr>\n",
       "      <td>2</td>\n",
       "      <td>0.512134</td>\n",
       "      <td>0.747502</td>\n",
       "      <td>0.448224</td>\n",
       "      <td>0.805009</td>\n",
       "    </tr>\n",
       "    <tr>\n",
       "      <td>3</td>\n",
       "      <td>0.495378</td>\n",
       "      <td>0.761126</td>\n",
       "      <td>0.382473</td>\n",
       "      <td>0.856507</td>\n",
       "    </tr>\n",
       "    <tr>\n",
       "      <td>4</td>\n",
       "      <td>0.486238</td>\n",
       "      <td>0.771117</td>\n",
       "      <td>0.330732</td>\n",
       "      <td>0.887757</td>\n",
       "    </tr>\n",
       "  </tbody>\n",
       "</table>\n",
       "</div>"
      ],
      "text/plain": [
       "   val_loss  val_accuracy      loss  accuracy\n",
       "0  0.629749      0.617620  0.712251  0.568937\n",
       "1  0.551643      0.709355  0.535763  0.735487\n",
       "2  0.512134      0.747502  0.448224  0.805009\n",
       "3  0.495378      0.761126  0.382473  0.856507\n",
       "4  0.486238      0.771117  0.330732  0.887757"
      ]
     },
     "execution_count": 36,
     "metadata": {},
     "output_type": "execute_result"
    }
   ],
   "source": [
    "hist = pd.DataFrame(history.history)\n",
    "hist"
   ]
  },
  {
   "cell_type": "code",
   "execution_count": 37,
   "metadata": {},
   "outputs": [
    {
     "data": {
      "image/png": "[encoded data removed]",
      "text/plain": [
       "<Figure size 432x288 with 1 Axes>"
      ]
     },
     "metadata": {
      "needs_background": "light"
     },
     "output_type": "display_data"
    },
    {
     "data": {
      "image/png": "[encoded data removed]",
      "text/plain": [
       "<Figure size 432x288 with 1 Axes>"
      ]
     },
     "metadata": {
      "needs_background": "light"
     },
     "output_type": "display_data"
    }
   ],
   "source": [
    "hist = pd.DataFrame(history.history)\n",
    "hist['epoch'] = history.epoch\n",
    "def plot_history(history):\n",
    "    \n",
    "      hist = pd.DataFrame(history.history)\n",
    "      hist['epoch'] = history.epoch\n",
    "\n",
    "      plt.figure()\n",
    "      plt.xlabel('Epoch')\n",
    "      plt.ylabel('Accuracy')\n",
    "      plt.plot(hist['epoch'], hist['accuracy'],\n",
    "               label='Train Accuracy')\n",
    "      plt.plot(hist['epoch'], hist['val_accuracy'],\n",
    "               label = 'Val Accuracy')\n",
    "      plt.ylim([0,1])\n",
    "      plt.legend()\n",
    "\n",
    "      plt.figure()\n",
    "      plt.xlabel('Epoch')\n",
    "      plt.ylabel('loss')\n",
    "      plt.plot(hist['epoch'], hist['loss'],\n",
    "               label='Train Loss')\n",
    "      plt.plot(hist['epoch'], hist['val_loss'],\n",
    "               label = 'Val Loss')\n",
    "      plt.ylim([0,5])\n",
    "      plt.legend()\n",
    "\n",
    "      plt.show()\n",
    "plot_history(history)\n",
    "\n"
   ]
  },
  {
   "cell_type": "markdown",
   "metadata": {},
   "source": [
    "In the above model in the embedding layer we will change it to dynamic layer by giving trainable as True so that these word embeddings weights get updated and below layers will be in normal form in static stage.when we check for the accuracy in both the figure's in static and non_static they are almost equal these figure's also they do have lot of sensitivity with batch_size"
   ]
  },
  {
   "cell_type": "markdown",
   "metadata": {},
   "source": [
    "# Best Model"
   ]
  },
  {
   "cell_type": "markdown",
   "metadata": {},
   "source": [
    "Among the three models, CNN-non static is the best model because the pre-trained vectors are fine tuned for each task and through by validation accuracy is like very high among all the three that is almost 78. So I consider CNN-non static is the best model."
   ]
  },
  {
   "cell_type": "markdown",
   "metadata": {},
   "source": [
    "# Computing Metrics"
   ]
  },
  {
   "cell_type": "code",
   "execution_count": 46,
   "metadata": {},
   "outputs": [
    {
     "name": "stdout",
     "output_type": "stream",
     "text": [
      "2210/2210 [==============================] - 1s 374us/step\n"
     ]
    }
   ],
   "source": [
    "y_pred=model_cnn_non_static.predict(np.array(X_test),verbose=1)"
   ]
  },
  {
   "cell_type": "code",
   "execution_count": 57,
   "metadata": {},
   "outputs": [
    {
     "name": "stdout",
     "output_type": "stream",
     "text": [
      "              precision    recall  f1-score   support\n",
      "\n",
      "           0       0.81      0.75      0.78      1138\n",
      "           1       0.75      0.81      0.78      1072\n",
      "\n",
      "    accuracy                           0.78      2210\n",
      "   macro avg       0.78      0.78      0.78      2210\n",
      "weighted avg       0.78      0.78      0.78      2210\n",
      "\n"
     ]
    }
   ],
   "source": [
    "# convert raw predictions to class indexes\n",
    "threshold = 0.5\n",
    "class_predictions = [(x > threshold).astype(int) for x in y_pred]\n",
    "\n",
    "# convert back to original class names\n",
    "pred_classes =np.array(class_predictions)\n",
    "\n",
    "# print precision, recall, f1-score report\n",
    "print(classification_report(y_test, pred_classes))"
   ]
  },
  {
   "cell_type": "markdown",
   "metadata": {},
   "source": [
    "Almost all the values are similar like F-score,Recall_score and Precision Score\n",
    "->F-score is basically calculated to seek a balance between precision and recall and when when there is an uneven class of distribution. \n",
    "->As we can see the F score measure also high so we can say that it works fine \n",
    "->In precision the denominator counts total predicted positive so by this we can say how accuarate our model is in all the three models comparitively Precision is higher ->Recall also playes a key role by saying how many positives our model calculated. \n",
    "->In all the three models GRU model comapritively performs better as we can say that by checking the above metrics."
   ]
  },
  {
   "cell_type": "markdown",
   "metadata": {},
   "source": [
    "# Observation from 3 models"
   ]
  },
  {
   "cell_type": "markdown",
   "metadata": {},
   "source": [
    "Through by tuning different hyper-parameters those are batch_size, drop rate it changes with different models basically applying convolution layer with multiple filter widths and feature maps then after applying max_over_time pooling operation over the feature map. Concatenate feature results from different layers and feed to a fully connected layer with softmax activation and used dropout for regularization. All the above mentioned process is same in all layers except few changes adding embedding layer.In CNN_rand by tuning all the hyper parameters I get to know batch size plays a key role among all others because when I have taken smaller batch size the validaion accuracy is around 65 but when i increase the batch size and want to train the modeL.The training accuracy as well as validation accuracy gets increased.This is due to smaller batch sizes not only has faster training dynamics but also generalization to the test dataset versus larger batch sizes where as in CNN_Static the word embeddings actually uses glove word embeddings through that they wont get trained because we were giving trainable as false. So they won't get trained in the initial stage when we check in the below layers all will be mentioned as static. When we check for the accuracy how good they are there isn't much change that i have observed when i changed n_grams or kernel size but changing batch_size changes a lot.In CNN_non static in the embedding layer we will change it to dynamic layer by giving trainable as True so that these word embeddings weights get updated and below layers will be in normal form in static stage.when we check for the accuracy in both the figure's in static and non_static they are almost equal these figure's also they do have lot of sensitivity with batch_size\n",
    "\n"
   ]
  },
  {
   "cell_type": "code",
   "execution_count": null,
   "metadata": {},
   "outputs": [],
   "source": []
  }
 ],
 "metadata": {
  "kernelspec": {
   "display_name": "Python 3",
   "language": "python",
   "name": "python3"
  },
  "language_info": {
   "codemirror_mode": {
    "name": "ipython",
    "version": 3
   },
   "file_extension": ".py",
   "mimetype": "text/x-python",
   "name": "python",
   "nbconvert_exporter": "python",
   "pygments_lexer": "ipython3",
   "version": "3.7.1"
  }
 },
 "nbformat": 4,
 "nbformat_minor": 2
}
