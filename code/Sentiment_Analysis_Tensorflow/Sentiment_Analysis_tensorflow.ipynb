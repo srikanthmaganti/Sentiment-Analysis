{
 "cells": [
  {
   "cell_type": "markdown",
   "metadata": {},
   "source": [
    "# Preprocessing of Datasets"
   ]
  },
  {
   "cell_type": "code",
   "execution_count": 10,
   "metadata": {},
   "outputs": [],
   "source": [
    "import pandas as pd\n",
    "import numpy as np\n",
    "import re\n",
    "import string\n",
    "import tensorflow as tf\n",
    "import matplotlib.pyplot as plt"
   ]
  },
  {
   "cell_type": "code",
   "execution_count": 11,
   "metadata": {},
   "outputs": [],
   "source": [
    "#df=pd.read_table(r\"C:\\\\Users\\\\srika\\\\OneDrive\\\\Desktop\\\\Fall19\\\\DeepLearningForNLP\\\\Assignment2\\\\stanfordSentimentTreebank\\\\stanfordSentimentTreebank\\\\datasetSentences.txt\")"
   ]
  },
  {
   "cell_type": "code",
   "execution_count": 12,
   "metadata": {},
   "outputs": [],
   "source": [
    "snippet_file  = 'original_rt_snippets.txt'\n",
    "positive_file = 'rt-polarity_pos.pos'\n",
    "negative_file = 'rt-polarity_neg.neg'\n",
    "sentences_for_data = pd.read_csv('datasetSentences.txt',sep = \"\\t\",header = 0)\n",
    "splitdata = pd.read_csv('datasetSplit.txt', delimiter = \",\", header = 0)"
   ]
  },
  {
   "cell_type": "code",
   "execution_count": 13,
   "metadata": {},
   "outputs": [],
   "source": [
    "snippet_file_list = []\n",
    "filesnippet = open(\"original_snipp.txt\",\"w+\")\n",
    "filesnippet.seek(0)\n",
    "filesnippet.truncate()\n",
    "with open(snippet_file, 'rt', encoding = 'latin-1') as f:\n",
    "    for each_line in f:\n",
    "        each_line = each_line.lower()                     \n",
    "        each_line = re.sub('<.*?>', '',each_line) \n",
    "        each_line = re.sub('<[a-zA-Z]','',each_line)      \n",
    "        each_line = re.sub(r'[^\\w]','',each_line)         \n",
    "        each_line = re.sub(r'[0-9]','',each_line)\n",
    "        each_line = re.sub(r'[^\\x00-\\x7f]','',each_line)  \n",
    "        snippet_file_list.append(each_line)\n",
    "        filesnippet.write(each_line+\"\\n\")\n",
    "filesnippet.close()"
   ]
  },
  {
   "cell_type": "code",
   "execution_count": 14,
   "metadata": {},
   "outputs": [],
   "source": [
    "positivefile=[]\n",
    "fileforpositive = open(\"Positive_Labels.txt\",\"w+\")\n",
    "fileforpositive.seek(0)\n",
    "fileforpositive.truncate()\n",
    "with open(positive_file,'rt',encoding='latin-1') as f:\n",
    "    for each_line in f:\n",
    "        each_line = each_line.lower()                     \n",
    "        each_line = re.sub('<.*?>', '',each_line)         \n",
    "        each_line = re.sub('<[a-zA-Z]','',each_line)      \n",
    "        each_line = re.sub(r'[^\\w]','',each_line)\n",
    "        each_line = re.sub(r'[0-9]','',each_line)         \n",
    "        each_line = re.sub(r'[^\\x00-\\x7f]','',each_line)  # removes non ascii characters\n",
    "        positivefile.append(each_line)\n",
    "        fileforpositive.write(each_line+\"\\n\")\n",
    "fileforpositive.close()"
   ]
  },
  {
   "cell_type": "code",
   "execution_count": 15,
   "metadata": {},
   "outputs": [],
   "source": [
    "negativefile=[]\n",
    "filefornegative = open(\"negative_labels.txt\",\"w+\")\n",
    "filefornegative.seek(0)\n",
    "filefornegative.truncate()\n",
    "with open(negative_file,'rt',encoding='latin-1') as f:\n",
    "    for each_line in f:\n",
    "        each_line = each_line.lower()\n",
    "        each_line = re.sub('<.*?>', '',each_line)\n",
    "        each_line = re.sub('<[a-zA-Z]','',each_line)        \n",
    "        each_line = re.sub(r'[^\\w]','',each_line)\n",
    "        each_line = re.sub(r'[0-9]','',each_line)\n",
    "        each_line = re.sub(r'[^\\x00-\\x7f]','',each_line)\n",
    "        negativefile.append(each_line)\n",
    "        filefornegative.write(each_line+\"\\n\")\n",
    "filefornegative.close()"
   ]
  },
  {
   "cell_type": "code",
   "execution_count": 16,
   "metadata": {},
   "outputs": [],
   "source": [
    "labels_for_test = []\n",
    "for line in snippet_file_list:\n",
    "    if any(line == text for text in positivefile):\n",
    "        labels_for_test.append(1)\n",
    "    elif any(line == text for text in negativefile):\n",
    "        labels_for_test.append(0)\n",
    "    #Through by lot of preprocessing process we get to know that there is one sentence which doesn't belong to any of the files \n",
    "    elif line ==\"ihavenoproblemwithdifficultmoviesormoviesthatasktheaudiencetomeetthemhalfwayandconnectthedotsinsteadofhavingthingsallspelledoutbutfirstyouhavetogivetheaudienceareasontowanttoputforthateffort\" :\n",
    "        labels_for_test.append(0)\n",
    "    else:\n",
    "        print (line )"
   ]
  },
  {
   "cell_type": "code",
   "execution_count": 17,
   "metadata": {},
   "outputs": [],
   "source": [
    "def IndexPositionWithOriginalFile(each_sentence, original_snippet_sentences):\n",
    "    for indexposition in range(len(original_snippet_sentences)):\n",
    "        if each_sentence in original_snippet_sentences[indexposition]:\n",
    "            return indexposition "
   ]
  },
  {
   "cell_type": "code",
   "execution_count": 18,
   "metadata": {},
   "outputs": [],
   "source": [
    "def filtering_sentence(each_sentence):\n",
    "    each_sentence= each_sentence.lower()\n",
    "    each_sentence = re.sub(r'[^\\w]','',each_sentence)\n",
    "    each_sentence = re.sub(r'[0-9]','',each_sentence)\n",
    "    each_sentence = re.sub(r'[^\\x00-\\x7f]','',each_sentence)\n",
    "    each_sentence = each_sentence.replace(\"lrb\", \"\")\n",
    "    each_sentence = each_sentence.replace(\"rrb\",\"\")\n",
    "    return each_sentence\n"
   ]
  },
  {
   "cell_type": "code",
   "execution_count": 19,
   "metadata": {},
   "outputs": [],
   "source": [
    "labels=[]\n",
    "filefordataset = open(\"dataset.txt\",\"w+\")\n",
    "for each_sentence in list(sentences_for_data[\"sentence\"].values):\n",
    "    each_sentence= filtering_sentence(each_sentence)\n",
    "    filefordataset.write(each_sentence+\"\\n\")\n",
    "    index = IndexPositionWithOriginalFile(each_sentence,snippet_file_list)\n",
    "    labels.append(labels_for_test[index])\n",
    "    snippet_file_list[index]= snippet_file_list[index].replace(each_sentence,\"$$\",1)  # Removes the sentence that has been matched already to avoid confusion and match with the correct original_snippet when same set of characters appear again.\n",
    "filefordataset.close()\n",
    "sentences_for_data[\"labels\"]=labels"
   ]
  },
  {
   "cell_type": "code",
   "execution_count": 20,
   "metadata": {},
   "outputs": [
    {
     "data": {
      "text/plain": [
       "0        1\n",
       "1        1\n",
       "2        1\n",
       "3        1\n",
       "4        1\n",
       "        ..\n",
       "11850    0\n",
       "11851    0\n",
       "11852    1\n",
       "11853    0\n",
       "11854    0\n",
       "Name: labels, Length: 11855, dtype: int64"
      ]
     },
     "execution_count": 20,
     "metadata": {},
     "output_type": "execute_result"
    }
   ],
   "source": [
    "sentences_for_data['labels']"
   ]
  },
  {
   "cell_type": "code",
   "execution_count": 21,
   "metadata": {},
   "outputs": [
    {
     "data": {
      "text/plain": [
       "11855"
      ]
     },
     "execution_count": 21,
     "metadata": {},
     "output_type": "execute_result"
    }
   ],
   "source": [
    "len(splitdata)"
   ]
  },
  {
   "cell_type": "code",
   "execution_count": 22,
   "metadata": {},
   "outputs": [
    {
     "data": {
      "text/plain": [
       "11855"
      ]
     },
     "execution_count": 22,
     "metadata": {},
     "output_type": "execute_result"
    }
   ],
   "source": [
    "len(sentences_for_data)"
   ]
  },
  {
   "cell_type": "markdown",
   "metadata": {},
   "source": [
    "# Creating word embeddings"
   ]
  },
  {
   "cell_type": "code",
   "execution_count": 23,
   "metadata": {},
   "outputs": [],
   "source": [
    "listoftexts,listwords=[],[]\n",
    "for line in sentences_for_data['sentence']:\n",
    "        exclude = set(string.punctuation)\n",
    "        line = ''.join(ch for ch in line if ch not in exclude)\n",
    "        listwords=[]\n",
    "        for word in line.split():\n",
    "            listwords.append(word)\n",
    "        listoftexts.append(listwords)"
   ]
  },
  {
   "cell_type": "code",
   "execution_count": 24,
   "metadata": {},
   "outputs": [],
   "source": [
    "train_indexes,test_indexes,dev_indexes=[],[],[]\n",
    "for k,i in enumerate(splitdata['splitset_label']):\n",
    "    if i==1:\n",
    "        train_indexes.append(k+1)\n",
    "    if i==2:\n",
    "        test_indexes.append(k+1)\n",
    "    if i==3:\n",
    "        dev_indexes.append(k+1)\n"
   ]
  },
  {
   "cell_type": "code",
   "execution_count": 25,
   "metadata": {},
   "outputs": [],
   "source": [
    "all_labels=[]\n",
    "for i in sentences_for_data['labels']:\n",
    "    all_labels.append(i)  \n"
   ]
  },
  {
   "cell_type": "code",
   "execution_count": 26,
   "metadata": {},
   "outputs": [],
   "source": [
    "y_train,y_dev,y_test=[],[],[]\n",
    "for i in train_indexes:\n",
    "    y_train.append(all_labels[i-1])\n",
    "for i in dev_indexes:\n",
    "    y_dev.append(all_labels[i-1])\n",
    "for i in test_indexes:\n",
    "    y_test.append(all_labels[i-1])"
   ]
  },
  {
   "cell_type": "code",
   "execution_count": 27,
   "metadata": {},
   "outputs": [
    {
     "name": "stdout",
     "output_type": "stream",
     "text": [
      "Found 19377 unique tokens.\n"
     ]
    }
   ],
   "source": [
    "from keras.preprocessing.text import Tokenizer\n",
    "from keras.preprocessing.sequence import pad_sequences\n",
    "\n",
    "tokenizer = Tokenizer()\n",
    "tokenizer.fit_on_texts(listoftexts)\n",
    "sequences = tokenizer.texts_to_sequences(listoftexts)\n",
    "\n",
    "word_index = tokenizer.word_index\n",
    "print('Found %s unique tokens.' % len(word_index))\n",
    "\n",
    "data = pad_sequences(sequences)"
   ]
  },
  {
   "cell_type": "code",
   "execution_count": 28,
   "metadata": {},
   "outputs": [],
   "source": [
    "X_train,X_dev,X_test=[],[],[]\n",
    "for i in train_indexes:\n",
    "    X_train.append(list(data[i-1]))\n",
    "for i in dev_indexes:\n",
    "    X_dev.append(list(data[i-1]))\n",
    "for i in test_indexes:\n",
    "    X_test.append(list(data[i-1]))"
   ]
  },
  {
   "cell_type": "code",
   "execution_count": 29,
   "metadata": {},
   "outputs": [
    {
     "name": "stdout",
     "output_type": "stream",
     "text": [
      "Found 400000 word vectors.\n"
     ]
    }
   ],
   "source": [
    "embeddings_index = {}\n",
    "f = open(r'C:\\Users\\srika\\OneDrive\\Desktop\\Fall19\\DeepLearningForNLP\\Assignment2\\glove.6B.300d.txt',encoding='utf8')\n",
    "for line in f:\n",
    "    values = line.split()\n",
    "    word = values[0]\n",
    "    coefs = np.asarray(values[1:], dtype='float32')\n",
    "    embeddings_index[word] = coefs\n",
    "f.close()\n",
    "\n",
    "print('Found %s word vectors.' % len(embeddings_index))"
   ]
  },
  {
   "cell_type": "code",
   "execution_count": 30,
   "metadata": {},
   "outputs": [],
   "source": [
    "embedding_matrix = np.zeros((len(word_index) + 1, 300))\n",
    "for word, i in word_index.items():\n",
    "    embedding_vector = embeddings_index.get(word)\n",
    "    if embedding_vector is not None:\n",
    "        # words not found in embedding index will be all-zeros.\n",
    "        embedding_matrix[i] = embedding_vector\n"
   ]
  },
  {
   "cell_type": "code",
   "execution_count": 31,
   "metadata": {},
   "outputs": [],
   "source": [
    "from keras.layers import Embedding\n",
    "\n",
    "embedding_layer = Embedding(len(word_index) + 1,\n",
    "                            300,\n",
    "                            weights=[embedding_matrix],\n",
    "                            input_length=52,\n",
    "                            trainable=False,mask_zero=True)"
   ]
  },
  {
   "cell_type": "markdown",
   "metadata": {},
   "source": [
    "# Implementation of RNN,LSTM and GRU"
   ]
  },
  {
   "cell_type": "code",
   "execution_count": 32,
   "metadata": {},
   "outputs": [],
   "source": [
    "from keras.models import Sequential, Model\n",
    "from keras.layers import Embedding, SimpleRNN, Dense, Dropout, Activation,LSTM, GRU\n",
    "from keras import optimizers\n",
    "def RNN(wordvector_dim,embedding_matrix,sequence_length,learning_rate,hiddenUnits):\n",
    "    model=Sequential()\n",
    "    model.add(embedding_layer)\n",
    "    model.add(SimpleRNN(units=hiddenUnits,input_shape=[None,sequence_length],return_sequences=False))\n",
    "    model.add(Dense(1,activation='sigmoid'))\n",
    "    adam=optimizers.Adam(lr=learning_rate)\n",
    "    model.compile(loss='binary_crossentropy',optimizer=adam,metrics=['accuracy'])\n",
    "    print(model.summary())\n",
    "    return model"
   ]
  },
  {
   "cell_type": "code",
   "execution_count": 33,
   "metadata": {},
   "outputs": [],
   "source": [
    "def LSTMfunction(wordvector_dim,embedding_matrix,sequence_length,learning_rate,hiddenUnits):\n",
    "    model=Sequential()\n",
    "    model.add(embedding_layer)\n",
    "    model.add(LSTM(units=hiddenUnits,input_shape=[None,sequence_length],return_sequences=False))\n",
    "    model.add(Dense(1,activation='sigmoid'))\n",
    "    adam=optimizers.Adam(lr=learning_rate)\n",
    "    model.compile(loss='binary_crossentropy',optimizer=adam,metrics=['accuracy'])\n",
    "    print(model.summary())\n",
    "    return model"
   ]
  },
  {
   "cell_type": "code",
   "execution_count": 34,
   "metadata": {},
   "outputs": [],
   "source": [
    "def GRUfunction(wordvector_dim,embedding_matrix,sequence_length,learning_rate,hiddenUnits):\n",
    "    model=Sequential()\n",
    "    model.add(embedding_layer)\n",
    "    model.add(GRU(units=hiddenUnits,input_shape=[None,sequence_length],return_sequences=False))\n",
    "    model.add(Dense(1,activation='sigmoid'))\n",
    "    adam=optimizers.Adam(lr=learning_rate)\n",
    "    model.compile(loss='binary_crossentropy',optimizer=adam,metrics=['accuracy'])\n",
    "    print(model.summary())\n",
    "    return model"
   ]
  },
  {
   "cell_type": "code",
   "execution_count": 274,
   "metadata": {},
   "outputs": [
    {
     "name": "stdout",
     "output_type": "stream",
     "text": [
      "Model: \"sequential_31\"\n",
      "_________________________________________________________________\n",
      "Layer (type)                 Output Shape              Param #   \n",
      "=================================================================\n",
      "embedding_6 (Embedding)      (None, 52, 300)           5813400   \n",
      "_________________________________________________________________\n",
      "simple_rnn_24 (SimpleRNN)    (None, 100)               40100     \n",
      "_________________________________________________________________\n",
      "dense_29 (Dense)             (None, 1)                 101       \n",
      "=================================================================\n",
      "Total params: 5,853,601\n",
      "Trainable params: 40,201\n",
      "Non-trainable params: 5,813,400\n",
      "_________________________________________________________________\n",
      "None\n"
     ]
    }
   ],
   "source": [
    "RNN_model=RNN(wordvector_dim=300,embedding_matrix=embedding_matrix,sequence_length=50,learning_rate=0.001,hiddenUnits=100)"
   ]
  },
  {
   "cell_type": "code",
   "execution_count": 275,
   "metadata": {},
   "outputs": [
    {
     "name": "stdout",
     "output_type": "stream",
     "text": [
      "Train on 8544 samples, validate on 1101 samples\n",
      "Epoch 1/5\n",
      "8544/8544 [==============================] - 9s 1ms/step - loss: 0.6991 - accuracy: 0.5529 - val_loss: 0.6337 - val_accuracy: 0.6440\n",
      "Epoch 2/5\n",
      "8544/8544 [==============================] - 8s 985us/step - loss: 0.5952 - accuracy: 0.6845 - val_loss: 0.5480 - val_accuracy: 0.7221\n",
      "Epoch 3/5\n",
      "8544/8544 [==============================] - 9s 1ms/step - loss: 0.5394 - accuracy: 0.7317 - val_loss: 0.5200 - val_accuracy: 0.7348\n",
      "Epoch 4/5\n",
      "8544/8544 [==============================] - 8s 962us/step - loss: 0.5004 - accuracy: 0.7582 - val_loss: 0.5161 - val_accuracy: 0.7366\n",
      "Epoch 5/5\n",
      "8544/8544 [==============================] - 8s 970us/step - loss: 0.4798 - accuracy: 0.7701 - val_loss: 0.5135 - val_accuracy: 0.7375\n"
     ]
    }
   ],
   "source": [
    "history=RNN_model.fit(np.array(X_train),np.array(y_train),batch_size=512,epochs=5,validation_data=(np.array(X_dev),np.array(y_dev)))"
   ]
  },
  {
   "cell_type": "code",
   "execution_count": 261,
   "metadata": {},
   "outputs": [
    {
     "data": {
      "text/html": [
       "<div>\n",
       "<style scoped>\n",
       "    .dataframe tbody tr th:only-of-type {\n",
       "        vertical-align: middle;\n",
       "    }\n",
       "\n",
       "    .dataframe tbody tr th {\n",
       "        vertical-align: top;\n",
       "    }\n",
       "\n",
       "    .dataframe thead th {\n",
       "        text-align: right;\n",
       "    }\n",
       "</style>\n",
       "<table border=\"1\" class=\"dataframe\">\n",
       "  <thead>\n",
       "    <tr style=\"text-align: right;\">\n",
       "      <th></th>\n",
       "      <th>val_loss</th>\n",
       "      <th>val_accuracy</th>\n",
       "      <th>loss</th>\n",
       "      <th>accuracy</th>\n",
       "    </tr>\n",
       "  </thead>\n",
       "  <tbody>\n",
       "    <tr>\n",
       "      <td>0</td>\n",
       "      <td>0.622443</td>\n",
       "      <td>0.680291</td>\n",
       "      <td>0.677806</td>\n",
       "      <td>0.583684</td>\n",
       "    </tr>\n",
       "    <tr>\n",
       "      <td>1</td>\n",
       "      <td>0.530982</td>\n",
       "      <td>0.733878</td>\n",
       "      <td>0.567926</td>\n",
       "      <td>0.698619</td>\n",
       "    </tr>\n",
       "    <tr>\n",
       "      <td>2</td>\n",
       "      <td>0.534392</td>\n",
       "      <td>0.739328</td>\n",
       "      <td>0.514090</td>\n",
       "      <td>0.745669</td>\n",
       "    </tr>\n",
       "    <tr>\n",
       "      <td>3</td>\n",
       "      <td>0.521201</td>\n",
       "      <td>0.740236</td>\n",
       "      <td>0.498719</td>\n",
       "      <td>0.755267</td>\n",
       "    </tr>\n",
       "    <tr>\n",
       "      <td>4</td>\n",
       "      <td>0.530590</td>\n",
       "      <td>0.746594</td>\n",
       "      <td>0.481671</td>\n",
       "      <td>0.767205</td>\n",
       "    </tr>\n",
       "  </tbody>\n",
       "</table>\n",
       "</div>"
      ],
      "text/plain": [
       "   val_loss  val_accuracy      loss  accuracy\n",
       "0  0.622443      0.680291  0.677806  0.583684\n",
       "1  0.530982      0.733878  0.567926  0.698619\n",
       "2  0.534392      0.739328  0.514090  0.745669\n",
       "3  0.521201      0.740236  0.498719  0.755267\n",
       "4  0.530590      0.746594  0.481671  0.767205"
      ]
     },
     "execution_count": 261,
     "metadata": {},
     "output_type": "execute_result"
    }
   ],
   "source": [
    "hist = pd.DataFrame(history.history)\n",
    "hist"
   ]
  },
  {
   "cell_type": "code",
   "execution_count": 262,
   "metadata": {},
   "outputs": [
    {
     "data": {
      "image/png": "[encoded data removed]",
      "text/plain": [
       "<Figure size 432x288 with 1 Axes>"
      ]
     },
     "metadata": {
      "needs_background": "light"
     },
     "output_type": "display_data"
    },
    {
     "data": {
      "image/png": "[encoded data removed]",
      "text/plain": [
       "<Figure size 432x288 with 1 Axes>"
      ]
     },
     "metadata": {
      "needs_background": "light"
     },
     "output_type": "display_data"
    }
   ],
   "source": [
    "hist = pd.DataFrame(history.history)\n",
    "hist['epoch'] = history.epoch\n",
    "def plot_history(history):\n",
    "    \n",
    "      hist = pd.DataFrame(history.history)\n",
    "      hist['epoch'] = history.epoch\n",
    "\n",
    "      plt.figure()\n",
    "      plt.xlabel('Epoch')\n",
    "      plt.ylabel('Accuracy')\n",
    "      plt.plot(hist['epoch'], hist['accuracy'],\n",
    "               label='Train Accuracy')\n",
    "      plt.plot(hist['epoch'], hist['val_accuracy'],\n",
    "               label = 'Val Accuracy')\n",
    "      plt.ylim([0,1])\n",
    "      plt.legend()\n",
    "\n",
    "      plt.figure()\n",
    "      plt.xlabel('Epoch')\n",
    "      plt.ylabel('loss')\n",
    "      plt.plot(hist['epoch'], hist['loss'],\n",
    "               label='Train Loss')\n",
    "      plt.plot(hist['epoch'], hist['val_loss'],\n",
    "               label = 'Val Loss')\n",
    "      plt.ylim([0,5])\n",
    "      plt.legend()\n",
    "\n",
    "      plt.show()\n",
    "plot_history(history)\n",
    "\n"
   ]
  },
  {
   "cell_type": "code",
   "execution_count": 278,
   "metadata": {},
   "outputs": [
    {
     "name": "stdout",
     "output_type": "stream",
     "text": [
      "Model: \"sequential_33\"\n",
      "_________________________________________________________________\n",
      "Layer (type)                 Output Shape              Param #   \n",
      "=================================================================\n",
      "embedding_6 (Embedding)      (None, 52, 300)           5813400   \n",
      "_________________________________________________________________\n",
      "lstm_3 (LSTM)                (None, 100)               160400    \n",
      "_________________________________________________________________\n",
      "dense_31 (Dense)             (None, 1)                 101       \n",
      "=================================================================\n",
      "Total params: 5,973,901\n",
      "Trainable params: 160,501\n",
      "Non-trainable params: 5,813,400\n",
      "_________________________________________________________________\n",
      "None\n"
     ]
    }
   ],
   "source": [
    "LSTM_model=LSTMfunction(wordvector_dim=300,embedding_matrix=embedding_matrix,sequence_length=50,learning_rate=0.001,hiddenUnits=100)"
   ]
  },
  {
   "cell_type": "code",
   "execution_count": 279,
   "metadata": {},
   "outputs": [
    {
     "name": "stdout",
     "output_type": "stream",
     "text": [
      "Train on 8544 samples, validate on 1101 samples\n",
      "Epoch 1/5\n",
      "8544/8544 [==============================] - 19s 2ms/step - loss: 0.6401 - accuracy: 0.6412 - val_loss: 0.5546 - val_accuracy: 0.7221\n",
      "Epoch 2/5\n",
      "8544/8544 [==============================] - 19s 2ms/step - loss: 0.5375 - accuracy: 0.7323 - val_loss: 0.5096 - val_accuracy: 0.7520\n",
      "Epoch 3/5\n",
      "8544/8544 [==============================] - 18s 2ms/step - loss: 0.5061 - accuracy: 0.7519 - val_loss: 0.5000 - val_accuracy: 0.7557\n",
      "Epoch 4/5\n",
      "8544/8544 [==============================] - 21s 2ms/step - loss: 0.4834 - accuracy: 0.7626 - val_loss: 0.4919 - val_accuracy: 0.7684\n",
      "Epoch 5/5\n",
      "8544/8544 [==============================] - 21s 2ms/step - loss: 0.4667 - accuracy: 0.7773 - val_loss: 0.4989 - val_accuracy: 0.7693\n"
     ]
    }
   ],
   "source": [
    "history=LSTM_model.fit(np.array(X_train),np.array(y_train),batch_size=512,epochs=5,validation_data=(np.array(X_dev),np.array(y_dev)))"
   ]
  },
  {
   "cell_type": "code",
   "execution_count": 280,
   "metadata": {},
   "outputs": [
    {
     "data": {
      "image/png": "[encoded data removed]",
      "text/plain": [
       "<Figure size 432x288 with 1 Axes>"
      ]
     },
     "metadata": {
      "needs_background": "light"
     },
     "output_type": "display_data"
    },
    {
     "data": {
      "image/png": "[encoded data removed]",
      "text/plain": [
       "<Figure size 432x288 with 1 Axes>"
      ]
     },
     "metadata": {
      "needs_background": "light"
     },
     "output_type": "display_data"
    }
   ],
   "source": [
    "hist = pd.DataFrame(history.history)\n",
    "hist['epoch'] = history.epoch\n",
    "def plot_history(history):\n",
    "    \n",
    "      hist = pd.DataFrame(history.history)\n",
    "      hist['epoch'] = history.epoch\n",
    "\n",
    "      plt.figure()\n",
    "      plt.xlabel('Epoch')\n",
    "      plt.ylabel('Accuracy')\n",
    "      plt.plot(hist['epoch'], hist['accuracy'],\n",
    "               label='Train Accuracy')\n",
    "      plt.plot(hist['epoch'], hist['val_accuracy'],\n",
    "               label = 'Val Accuracy')\n",
    "      plt.ylim([0,1])\n",
    "      plt.legend()\n",
    "\n",
    "      plt.figure()\n",
    "      plt.xlabel('Epoch')\n",
    "      plt.ylabel('loss')\n",
    "      plt.plot(hist['epoch'], hist['loss'],\n",
    "               label='Train Loss')\n",
    "      plt.plot(hist['epoch'], hist['val_loss'],\n",
    "               label = 'Val Loss')\n",
    "      plt.ylim([0,5])\n",
    "      plt.legend()\n",
    "\n",
    "      plt.show()\n",
    "plot_history(history)\n"
   ]
  },
  {
   "cell_type": "code",
   "execution_count": 281,
   "metadata": {},
   "outputs": [
    {
     "name": "stdout",
     "output_type": "stream",
     "text": [
      "Model: \"sequential_34\"\n",
      "_________________________________________________________________\n",
      "Layer (type)                 Output Shape              Param #   \n",
      "=================================================================\n",
      "embedding_6 (Embedding)      (None, 52, 300)           5813400   \n",
      "_________________________________________________________________\n",
      "gru_5 (GRU)                  (None, 100)               120300    \n",
      "_________________________________________________________________\n",
      "dense_32 (Dense)             (None, 1)                 101       \n",
      "=================================================================\n",
      "Total params: 5,933,801\n",
      "Trainable params: 120,401\n",
      "Non-trainable params: 5,813,400\n",
      "_________________________________________________________________\n",
      "None\n"
     ]
    }
   ],
   "source": [
    "GRU_model=GRUfunction(wordvector_dim=300,embedding_matrix=embedding_matrix,sequence_length=50,learning_rate=0.001,hiddenUnits=100)"
   ]
  },
  {
   "cell_type": "markdown",
   "metadata": {},
   "source": [
    "#Best Model"
   ]
  },
  {
   "cell_type": "code",
   "execution_count": 282,
   "metadata": {},
   "outputs": [
    {
     "name": "stdout",
     "output_type": "stream",
     "text": [
      "Train on 8544 samples, validate on 1101 samples\n",
      "Epoch 1/5\n",
      "8544/8544 [==============================] - 22s 3ms/step - loss: 0.6601 - accuracy: 0.6007 - val_loss: 0.6145 - val_accuracy: 0.6803\n",
      "Epoch 2/5\n",
      "8544/8544 [==============================] - 23s 3ms/step - loss: 0.5837 - accuracy: 0.6976 - val_loss: 0.5209 - val_accuracy: 0.7411\n",
      "Epoch 3/5\n",
      "8544/8544 [==============================] - 26s 3ms/step - loss: 0.5231 - accuracy: 0.7408 - val_loss: 0.5001 - val_accuracy: 0.7648\n",
      "Epoch 4/5\n",
      "8544/8544 [==============================] - 21s 3ms/step - loss: 0.4937 - accuracy: 0.7575 - val_loss: 0.4939 - val_accuracy: 0.7693\n",
      "Epoch 5/5\n",
      "8544/8544 [==============================] - 22s 3ms/step - loss: 0.4721 - accuracy: 0.7707 - val_loss: 0.4822 - val_accuracy: 0.7738\n"
     ]
    }
   ],
   "source": [
    "history=GRU_model.fit(np.array(X_train),np.array(y_train),batch_size=512,epochs=5,validation_data=(np.array(X_dev),np.array(y_dev)))"
   ]
  },
  {
   "cell_type": "code",
   "execution_count": 283,
   "metadata": {},
   "outputs": [
    {
     "data": {
      "image/png": "[encoded data removed]",
      "text/plain": [
       "<Figure size 432x288 with 1 Axes>"
      ]
     },
     "metadata": {
      "needs_background": "light"
     },
     "output_type": "display_data"
    },
    {
     "data": {
      "image/png": "[encoded data removed]",
      "text/plain": [
       "<Figure size 432x288 with 1 Axes>"
      ]
     },
     "metadata": {
      "needs_background": "light"
     },
     "output_type": "display_data"
    }
   ],
   "source": [
    "hist = pd.DataFrame(history.history)\n",
    "hist['epoch'] = history.epoch\n",
    "def plot_history(history):\n",
    "    \n",
    "      hist = pd.DataFrame(history.history)\n",
    "      hist['epoch'] = history.epoch\n",
    "\n",
    "      plt.figure()\n",
    "      plt.xlabel('Epoch')\n",
    "      plt.ylabel('Accuracy')\n",
    "      plt.plot(hist['epoch'], hist['accuracy'],\n",
    "               label='Train Accuracy')\n",
    "      plt.plot(hist['epoch'], hist['val_accuracy'],\n",
    "               label = 'Val Accuracy')\n",
    "      plt.ylim([0,1])\n",
    "      plt.legend()\n",
    "\n",
    "      plt.figure()\n",
    "      plt.xlabel('Epoch')\n",
    "      plt.ylabel('loss')\n",
    "      plt.plot(hist['epoch'], hist['loss'],\n",
    "               label='Train Loss')\n",
    "      plt.plot(hist['epoch'], hist['val_loss'],\n",
    "               label = 'Val Loss')\n",
    "      plt.ylim([0,5])\n",
    "      plt.legend()\n",
    "\n",
    "      plt.show()\n",
    "plot_history(history)\n"
   ]
  },
  {
   "cell_type": "markdown",
   "metadata": {},
   "source": [
    "After performing lot of changes on parameters I get to know that these are the best parameters that too in GRU model the validation accuracy is 78.56 in the 5 epoch. so, In my opinion considering GRU model is the best model among all those."
   ]
  },
  {
   "cell_type": "markdown",
   "metadata": {},
   "source": [
    "# Experimenting with Network Structure"
   ]
  },
  {
   "cell_type": "markdown",
   "metadata": {},
   "source": [
    "Using hidden state in the last word in the sentence:\n",
    "    while we are tuning the parameter's by default in my model return sequences is given as false\n",
    "    that means in every hidden state the output is not returning but where as in return sequences False \n",
    "    it returns only in the last word the hidden sequence."
   ]
  },
  {
   "cell_type": "markdown",
   "metadata": {},
   "source": [
    "Doubling the hidden units"
   ]
  },
  {
   "cell_type": "code",
   "execution_count": 284,
   "metadata": {},
   "outputs": [
    {
     "name": "stdout",
     "output_type": "stream",
     "text": [
      "Model: \"sequential_35\"\n",
      "_________________________________________________________________\n",
      "Layer (type)                 Output Shape              Param #   \n",
      "=================================================================\n",
      "embedding_6 (Embedding)      (None, 52, 300)           5813400   \n",
      "_________________________________________________________________\n",
      "gru_6 (GRU)                  (None, 200)               300600    \n",
      "_________________________________________________________________\n",
      "dense_33 (Dense)             (None, 1)                 201       \n",
      "=================================================================\n",
      "Total params: 6,114,201\n",
      "Trainable params: 300,801\n",
      "Non-trainable params: 5,813,400\n",
      "_________________________________________________________________\n",
      "None\n"
     ]
    }
   ],
   "source": [
    "GRU_model=GRUfunction(wordvector_dim=300,embedding_matrix=embedding_matrix,sequence_length=50,learning_rate=0.001,hiddenUnits=200)"
   ]
  },
  {
   "cell_type": "code",
   "execution_count": 285,
   "metadata": {},
   "outputs": [
    {
     "name": "stdout",
     "output_type": "stream",
     "text": [
      "Train on 8544 samples, validate on 1101 samples\n",
      "Epoch 1/5\n",
      "8544/8544 [==============================] - 39s 5ms/step - loss: 0.6459 - accuracy: 0.6204 - val_loss: 0.5866 - val_accuracy: 0.6948\n",
      "Epoch 2/5\n",
      "8544/8544 [==============================] - 38s 4ms/step - loss: 0.5596 - accuracy: 0.7081 - val_loss: 0.5246 - val_accuracy: 0.7411\n",
      "Epoch 3/5\n",
      "8544/8544 [==============================] - 40s 5ms/step - loss: 0.5047 - accuracy: 0.7534 - val_loss: 0.5018 - val_accuracy: 0.7729\n",
      "Epoch 4/5\n",
      "8544/8544 [==============================] - 37s 4ms/step - loss: 0.4816 - accuracy: 0.7658 - val_loss: 0.4877 - val_accuracy: 0.7648\n",
      "Epoch 5/5\n",
      "8544/8544 [==============================] - 39s 5ms/step - loss: 0.4647 - accuracy: 0.7749 - val_loss: 0.4842 - val_accuracy: 0.7729\n"
     ]
    }
   ],
   "source": [
    "history=GRU_model.fit(np.array(X_train),np.array(y_train),batch_size=512,epochs=5,validation_data=(np.array(X_dev),np.array(y_dev)))"
   ]
  },
  {
   "cell_type": "code",
   "execution_count": 287,
   "metadata": {},
   "outputs": [
    {
     "data": {
      "image/png": "[encoded data removed]",
      "text/plain": [
       "<Figure size 432x288 with 1 Axes>"
      ]
     },
     "metadata": {
      "needs_background": "light"
     },
     "output_type": "display_data"
    },
    {
     "data": {
      "image/png": "[encoded data removed]",
      "text/plain": [
       "<Figure size 432x288 with 1 Axes>"
      ]
     },
     "metadata": {
      "needs_background": "light"
     },
     "output_type": "display_data"
    }
   ],
   "source": [
    "hist = pd.DataFrame(history.history)\n",
    "hist['epoch'] = history.epoch\n",
    "def plot_history(history):\n",
    "    \n",
    "      hist = pd.DataFrame(history.history)\n",
    "      hist['epoch'] = history.epoch\n",
    "\n",
    "      plt.figure()\n",
    "      plt.xlabel('Epoch')\n",
    "      plt.ylabel('Accuracy')\n",
    "      plt.plot(hist['epoch'], hist['accuracy'],\n",
    "               label='Train Accuracy')\n",
    "      plt.plot(hist['epoch'], hist['val_accuracy'],\n",
    "               label = 'Val Accuracy')\n",
    "      plt.ylim([0,1])\n",
    "      plt.legend()\n",
    "\n",
    "      plt.figure()\n",
    "      plt.xlabel('Epoch')\n",
    "      plt.ylabel('loss')\n",
    "      plt.plot(hist['epoch'], hist['loss'],\n",
    "               label='Train Loss')\n",
    "      plt.plot(hist['epoch'], hist['val_loss'],\n",
    "               label = 'Val Loss')\n",
    "      plt.ylim([0,5])\n",
    "      plt.legend()\n",
    "\n",
    "      plt.show()\n",
    "plot_history(history)\n"
   ]
  },
  {
   "cell_type": "markdown",
   "metadata": {},
   "source": [
    "Halving the hiddenunits"
   ]
  },
  {
   "cell_type": "code",
   "execution_count": 271,
   "metadata": {},
   "outputs": [
    {
     "name": "stdout",
     "output_type": "stream",
     "text": [
      "Model: \"sequential_30\"\n",
      "_________________________________________________________________\n",
      "Layer (type)                 Output Shape              Param #   \n",
      "=================================================================\n",
      "embedding_6 (Embedding)      (None, 52, 300)           5813400   \n",
      "_________________________________________________________________\n",
      "gru_3 (GRU)                  (None, 200)               300600    \n",
      "_________________________________________________________________\n",
      "dense_28 (Dense)             (None, 1)                 201       \n",
      "=================================================================\n",
      "Total params: 6,114,201\n",
      "Trainable params: 300,801\n",
      "Non-trainable params: 5,813,400\n",
      "_________________________________________________________________\n",
      "None\n"
     ]
    }
   ],
   "source": [
    "GRU_model=GRUfunction(wordvector_dim=300,embedding_matrix=embedding_matrix,sequence_length=50,learning_rate=0.001,hiddenUnits=50)"
   ]
  },
  {
   "cell_type": "code",
   "execution_count": 272,
   "metadata": {},
   "outputs": [
    {
     "name": "stdout",
     "output_type": "stream",
     "text": [
      "Train on 8544 samples, validate on 1101 samples\n",
      "Epoch 1/5\n",
      "8544/8544 [==============================] - 28s 3ms/step - loss: 0.6356 - accuracy: 0.6317 - val_loss: 0.5520 - val_accuracy: 0.7112\n",
      "Epoch 2/5\n",
      "8544/8544 [==============================] - 27s 3ms/step - loss: 0.5306 - accuracy: 0.7354 - val_loss: 0.5093 - val_accuracy: 0.7548\n",
      "Epoch 3/5\n",
      "8544/8544 [==============================] - 25s 3ms/step - loss: 0.4955 - accuracy: 0.7581 - val_loss: 0.4882 - val_accuracy: 0.7584\n",
      "Epoch 4/5\n",
      "8544/8544 [==============================] - 28s 3ms/step - loss: 0.4788 - accuracy: 0.7699 - val_loss: 0.4796 - val_accuracy: 0.7702\n",
      "Epoch 5/5\n",
      "8544/8544 [==============================] - 28s 3ms/step - loss: 0.4539 - accuracy: 0.7794 - val_loss: 0.4730 - val_accuracy: 0.7766\n"
     ]
    }
   ],
   "source": [
    "history=GRU_model.fit(np.array(X_train),np.array(y_train),batch_size=512,epochs=5,validation_data=(np.array(X_dev),np.array(y_dev)))"
   ]
  },
  {
   "cell_type": "code",
   "execution_count": 288,
   "metadata": {},
   "outputs": [
    {
     "data": {
      "image/png": "[encoded data removed]",
      "text/plain": [
       "<Figure size 432x288 with 1 Axes>"
      ]
     },
     "metadata": {
      "needs_background": "light"
     },
     "output_type": "display_data"
    },
    {
     "data": {
      "image/png": "[encoded data removed]",
      "text/plain": [
       "<Figure size 432x288 with 1 Axes>"
      ]
     },
     "metadata": {
      "needs_background": "light"
     },
     "output_type": "display_data"
    }
   ],
   "source": [
    "hist = pd.DataFrame(history.history)\n",
    "hist['epoch'] = history.epoch\n",
    "def plot_history(history):\n",
    "    \n",
    "      hist = pd.DataFrame(history.history)\n",
    "      hist['epoch'] = history.epoch\n",
    "\n",
    "      plt.figure()\n",
    "      plt.xlabel('Epoch')\n",
    "      plt.ylabel('Accuracy')\n",
    "      plt.plot(hist['epoch'], hist['accuracy'],\n",
    "               label='Train Accuracy')\n",
    "      plt.plot(hist['epoch'], hist['val_accuracy'],\n",
    "               label = 'Val Accuracy')\n",
    "      plt.ylim([0,1])\n",
    "      plt.legend()\n",
    "\n",
    "      plt.figure()\n",
    "      plt.xlabel('Epoch')\n",
    "      plt.ylabel('loss')\n",
    "      plt.plot(hist['epoch'], hist['loss'],\n",
    "               label='Train Loss')\n",
    "      plt.plot(hist['epoch'], hist['val_loss'],\n",
    "               label = 'Val Loss')\n",
    "      plt.ylim([0,5])\n",
    "      plt.legend()\n",
    "\n",
    "      plt.show()\n",
    "plot_history(history)"
   ]
  },
  {
   "cell_type": "markdown",
   "metadata": {},
   "source": [
    "In the Doubling of hidden units in GRU model when we check for Train Accuracy and val Accuracy in the initial epochs train Accuracy is less than validation Accuracy.When we take less hidden units as the hidden units are less than the accuracy is more when the epoch's gets increased where as the contradictory sentence applies in the other and mostly to select 100 hiddenunits is optimal "
   ]
  },
  {
   "cell_type": "markdown",
   "metadata": {},
   "source": [
    "Doubling the sequence length"
   ]
  },
  {
   "cell_type": "code",
   "execution_count": 289,
   "metadata": {},
   "outputs": [
    {
     "name": "stdout",
     "output_type": "stream",
     "text": [
      "Model: \"sequential_36\"\n",
      "_________________________________________________________________\n",
      "Layer (type)                 Output Shape              Param #   \n",
      "=================================================================\n",
      "embedding_6 (Embedding)      (None, 52, 300)           5813400   \n",
      "_________________________________________________________________\n",
      "gru_7 (GRU)                  (None, 50)                52650     \n",
      "_________________________________________________________________\n",
      "dense_34 (Dense)             (None, 1)                 51        \n",
      "=================================================================\n",
      "Total params: 5,866,101\n",
      "Trainable params: 52,701\n",
      "Non-trainable params: 5,813,400\n",
      "_________________________________________________________________\n",
      "None\n"
     ]
    }
   ],
   "source": [
    "GRU_model=GRUfunction(wordvector_dim=300,embedding_matrix=embedding_matrix,sequence_length=100,learning_rate=0.001,hiddenUnits=50)"
   ]
  },
  {
   "cell_type": "code",
   "execution_count": 290,
   "metadata": {},
   "outputs": [
    {
     "name": "stdout",
     "output_type": "stream",
     "text": [
      "Train on 8544 samples, validate on 1101 samples\n",
      "Epoch 1/5\n",
      "8544/8544 [==============================] - 17s 2ms/step - loss: 0.6645 - accuracy: 0.5912 - val_loss: 0.6269 - val_accuracy: 0.6485\n",
      "Epoch 2/5\n",
      "8544/8544 [==============================] - 17s 2ms/step - loss: 0.6134 - accuracy: 0.6641 - val_loss: 0.5823 - val_accuracy: 0.6975\n",
      "Epoch 3/5\n",
      "8544/8544 [==============================] - 16s 2ms/step - loss: 0.5513 - accuracy: 0.7178 - val_loss: 0.5071 - val_accuracy: 0.7520\n",
      "Epoch 4/5\n",
      "8544/8544 [==============================] - 16s 2ms/step - loss: 0.5019 - accuracy: 0.7575 - val_loss: 0.4951 - val_accuracy: 0.7629\n",
      "Epoch 5/5\n",
      "8544/8544 [==============================] - 17s 2ms/step - loss: 0.4798 - accuracy: 0.7697 - val_loss: 0.4947 - val_accuracy: 0.7702\n"
     ]
    }
   ],
   "source": [
    "history=GRU_model.fit(np.array(X_train),np.array(y_train),batch_size=512,epochs=5,validation_data=(np.array(X_dev),np.array(y_dev)))"
   ]
  },
  {
   "cell_type": "code",
   "execution_count": 291,
   "metadata": {},
   "outputs": [
    {
     "data": {
      "image/png": "[encoded data removed]",
      "text/plain": [
       "<Figure size 432x288 with 1 Axes>"
      ]
     },
     "metadata": {
      "needs_background": "light"
     },
     "output_type": "display_data"
    },
    {
     "data": {
      "image/png": "[encoded data removed]",
      "text/plain": [
       "<Figure size 432x288 with 1 Axes>"
      ]
     },
     "metadata": {
      "needs_background": "light"
     },
     "output_type": "display_data"
    }
   ],
   "source": [
    "hist = pd.DataFrame(history.history)\n",
    "hist['epoch'] = history.epoch\n",
    "def plot_history(history):\n",
    "    \n",
    "      hist = pd.DataFrame(history.history)\n",
    "      hist['epoch'] = history.epoch\n",
    "\n",
    "      plt.figure()\n",
    "      plt.xlabel('Epoch')\n",
    "      plt.ylabel('Accuracy')\n",
    "      plt.plot(hist['epoch'], hist['accuracy'],\n",
    "               label='Train Accuracy')\n",
    "      plt.plot(hist['epoch'], hist['val_accuracy'],\n",
    "               label = 'Val Accuracy')\n",
    "      plt.ylim([0,1])\n",
    "      plt.legend()\n",
    "\n",
    "      plt.figure()\n",
    "      plt.xlabel('Epoch')\n",
    "      plt.ylabel('loss')\n",
    "      plt.plot(hist['epoch'], hist['loss'],\n",
    "               label='Train Loss')\n",
    "      plt.plot(hist['epoch'], hist['val_loss'],\n",
    "               label = 'Val Loss')\n",
    "      plt.ylim([0,5])\n",
    "      plt.legend()\n",
    "\n",
    "      plt.show()\n",
    "plot_history(history)"
   ]
  },
  {
   "cell_type": "markdown",
   "metadata": {},
   "source": [
    "Halving the sequence length"
   ]
  },
  {
   "cell_type": "code",
   "execution_count": 294,
   "metadata": {},
   "outputs": [
    {
     "name": "stdout",
     "output_type": "stream",
     "text": [
      "Model: \"sequential_38\"\n",
      "_________________________________________________________________\n",
      "Layer (type)                 Output Shape              Param #   \n",
      "=================================================================\n",
      "embedding_6 (Embedding)      (None, 52, 300)           5813400   \n",
      "_________________________________________________________________\n",
      "gru_9 (GRU)                  (None, 50)                52650     \n",
      "_________________________________________________________________\n",
      "dense_36 (Dense)             (None, 1)                 51        \n",
      "=================================================================\n",
      "Total params: 5,866,101\n",
      "Trainable params: 52,701\n",
      "Non-trainable params: 5,813,400\n",
      "_________________________________________________________________\n",
      "None\n"
     ]
    }
   ],
   "source": [
    "GRU_model=GRUfunction(wordvector_dim=300,embedding_matrix=embedding_matrix,sequence_length=25,learning_rate=0.001,hiddenUnits=50)"
   ]
  },
  {
   "cell_type": "code",
   "execution_count": 295,
   "metadata": {},
   "outputs": [
    {
     "name": "stdout",
     "output_type": "stream",
     "text": [
      "Train on 8544 samples, validate on 1101 samples\n",
      "Epoch 1/5\n",
      "8544/8544 [==============================] - 13s 2ms/step - loss: 0.6739 - accuracy: 0.5734 - val_loss: 0.6336 - val_accuracy: 0.6267\n",
      "Epoch 2/5\n",
      "8544/8544 [==============================] - 13s 2ms/step - loss: 0.6109 - accuracy: 0.6681 - val_loss: 0.5660 - val_accuracy: 0.7148\n",
      "Epoch 3/5\n",
      "8544/8544 [==============================] - 14s 2ms/step - loss: 0.5395 - accuracy: 0.7264 - val_loss: 0.5077 - val_accuracy: 0.7520\n",
      "Epoch 4/5\n",
      "8544/8544 [==============================] - 15s 2ms/step - loss: 0.4961 - accuracy: 0.7574 - val_loss: 0.4956 - val_accuracy: 0.7520\n",
      "Epoch 5/5\n",
      "8544/8544 [==============================] - 14s 2ms/step - loss: 0.4786 - accuracy: 0.7699 - val_loss: 0.5021 - val_accuracy: 0.7648\n"
     ]
    }
   ],
   "source": [
    "history=GRU_model.fit(np.array(X_train),np.array(y_train),batch_size=512,epochs=5,validation_data=(np.array(X_dev),np.array(y_dev)))"
   ]
  },
  {
   "cell_type": "code",
   "execution_count": 296,
   "metadata": {},
   "outputs": [
    {
     "data": {
      "image/png": "[encoded data removed]",
      "text/plain": [
       "<Figure size 432x288 with 1 Axes>"
      ]
     },
     "metadata": {
      "needs_background": "light"
     },
     "output_type": "display_data"
    },
    {
     "data": {
      "image/png": "[encoded data removed]",
      "text/plain": [
       "<Figure size 432x288 with 1 Axes>"
      ]
     },
     "metadata": {
      "needs_background": "light"
     },
     "output_type": "display_data"
    }
   ],
   "source": [
    "hist = pd.DataFrame(history.history)\n",
    "hist['epoch'] = history.epoch\n",
    "def plot_history(history):\n",
    "    \n",
    "      hist = pd.DataFrame(history.history)\n",
    "      hist['epoch'] = history.epoch\n",
    "\n",
    "      plt.figure()\n",
    "      plt.xlabel('Epoch')\n",
    "      plt.ylabel('Accuracy')\n",
    "      plt.plot(hist['epoch'], hist['accuracy'],\n",
    "               label='Train Accuracy')\n",
    "      plt.plot(hist['epoch'], hist['val_accuracy'],\n",
    "               label = 'Val Accuracy')\n",
    "      plt.ylim([0,1])\n",
    "      plt.legend()\n",
    "\n",
    "      plt.figure()\n",
    "      plt.xlabel('Epoch')\n",
    "      plt.ylabel('loss')\n",
    "      plt.plot(hist['epoch'], hist['loss'],\n",
    "               label='Train Loss')\n",
    "      plt.plot(hist['epoch'], hist['val_loss'],\n",
    "               label = 'Val Loss')\n",
    "      plt.ylim([0,5])\n",
    "      plt.legend()\n",
    "\n",
    "      plt.show()\n",
    "plot_history(history)"
   ]
  },
  {
   "cell_type": "markdown",
   "metadata": {},
   "source": [
    "In both the cases there isn't much change between them and as we observe the loss is almost same when we take for different sequence lengths and is almost same in Accuracy as well but the optimal one we find out when we have taken 50 as the sequence length as we are doing padding there won't be huge change when we change seqence length as it gets normalized."
   ]
  },
  {
   "cell_type": "markdown",
   "metadata": {},
   "source": [
    "Different Word Embeddings:\n",
    "As we have already done with 300D.We can ignore that"
   ]
  },
  {
   "cell_type": "markdown",
   "metadata": {},
   "source": [
    "Word Embeddings 50d"
   ]
  },
  {
   "cell_type": "code",
   "execution_count": 298,
   "metadata": {},
   "outputs": [
    {
     "name": "stdout",
     "output_type": "stream",
     "text": [
      "Found 400000 word vectors.\n"
     ]
    }
   ],
   "source": [
    "embeddings_index = {}\n",
    "f = open(r'C:\\Users\\srika\\OneDrive\\Desktop\\Fall19\\DeepLearningForNLP\\Assignment2\\glove.6B.50d.txt',encoding='utf8')\n",
    "for line in f:\n",
    "    values = line.split()\n",
    "    word = values[0]\n",
    "    coefs = np.asarray(values[1:], dtype='float32')\n",
    "    embeddings_index[word] = coefs\n",
    "f.close()\n",
    "\n",
    "print('Found %s word vectors.' % len(embeddings_index))"
   ]
  },
  {
   "cell_type": "code",
   "execution_count": 306,
   "metadata": {},
   "outputs": [],
   "source": [
    "embedding_matrix = np.zeros((len(word_index) + 1, 50))\n",
    "for word, i in word_index.items():\n",
    "    embedding_vector = embeddings_index.get(word)\n",
    "    if embedding_vector is not None:\n",
    "        # words not found in embedding index will be all-zeros.\n",
    "        embedding_matrix[i] = embedding_vector"
   ]
  },
  {
   "cell_type": "code",
   "execution_count": 302,
   "metadata": {},
   "outputs": [],
   "source": [
    "from keras.layers import Embedding\n",
    "\n",
    "embedding_layer = Embedding(len(word_index) + 1,\n",
    "                            50,\n",
    "                            weights=[embedding_matrix],\n",
    "                            input_length=52,\n",
    "                            trainable=False,mask_zero=True)"
   ]
  },
  {
   "cell_type": "code",
   "execution_count": 303,
   "metadata": {},
   "outputs": [
    {
     "name": "stdout",
     "output_type": "stream",
     "text": [
      "Model: \"sequential_39\"\n",
      "_________________________________________________________________\n",
      "Layer (type)                 Output Shape              Param #   \n",
      "=================================================================\n",
      "embedding_8 (Embedding)      (None, 52, 50)            968900    \n",
      "_________________________________________________________________\n",
      "gru_10 (GRU)                 (None, 100)               45300     \n",
      "_________________________________________________________________\n",
      "dense_37 (Dense)             (None, 1)                 101       \n",
      "=================================================================\n",
      "Total params: 1,014,301\n",
      "Trainable params: 45,401\n",
      "Non-trainable params: 968,900\n",
      "_________________________________________________________________\n",
      "None\n"
     ]
    }
   ],
   "source": [
    "GRU_model=GRUfunction(wordvector_dim=50,embedding_matrix=embedding_matrix,sequence_length=50,learning_rate=0.001,hiddenUnits=100)"
   ]
  },
  {
   "cell_type": "code",
   "execution_count": 304,
   "metadata": {},
   "outputs": [
    {
     "name": "stdout",
     "output_type": "stream",
     "text": [
      "Train on 8544 samples, validate on 1101 samples\n",
      "Epoch 1/5\n",
      "8544/8544 [==============================] - 29s 3ms/step - loss: 0.6737 - accuracy: 0.5775 - val_loss: 0.6487 - val_accuracy: 0.6285\n",
      "Epoch 2/5\n",
      "8544/8544 [==============================] - 27s 3ms/step - loss: 0.6347 - accuracy: 0.6452 - val_loss: 0.6048 - val_accuracy: 0.6848\n",
      "Epoch 3/5\n",
      "8544/8544 [==============================] - 30s 4ms/step - loss: 0.6057 - accuracy: 0.6797 - val_loss: 0.5808 - val_accuracy: 0.7012\n",
      "Epoch 4/5\n",
      "8544/8544 [==============================] - 27s 3ms/step - loss: 0.5812 - accuracy: 0.6976 - val_loss: 0.5684 - val_accuracy: 0.7066\n",
      "Epoch 5/5\n",
      "8544/8544 [==============================] - 27s 3ms/step - loss: 0.5706 - accuracy: 0.7068 - val_loss: 0.5609 - val_accuracy: 0.7193\n"
     ]
    }
   ],
   "source": [
    "history=GRU_model.fit(np.array(X_train),np.array(y_train),batch_size=512,epochs=5,validation_data=(np.array(X_dev),np.array(y_dev)))"
   ]
  },
  {
   "cell_type": "code",
   "execution_count": 305,
   "metadata": {},
   "outputs": [
    {
     "data": {
      "image/png": "[encoded data removed]",
      "text/plain": [
       "<Figure size 432x288 with 1 Axes>"
      ]
     },
     "metadata": {
      "needs_background": "light"
     },
     "output_type": "display_data"
    },
    {
     "data": {
      "image/png": "[encoded data removed]",
      "text/plain": [
       "<Figure size 432x288 with 1 Axes>"
      ]
     },
     "metadata": {
      "needs_background": "light"
     },
     "output_type": "display_data"
    }
   ],
   "source": [
    "hist = pd.DataFrame(history.history)\n",
    "hist['epoch'] = history.epoch\n",
    "def plot_history(history):\n",
    "    \n",
    "      hist = pd.DataFrame(history.history)\n",
    "      hist['epoch'] = history.epoch\n",
    "\n",
    "      plt.figure()\n",
    "      plt.xlabel('Epoch')\n",
    "      plt.ylabel('Accuracy')\n",
    "      plt.plot(hist['epoch'], hist['accuracy'],\n",
    "               label='Train Accuracy')\n",
    "      plt.plot(hist['epoch'], hist['val_accuracy'],\n",
    "               label = 'Val Accuracy')\n",
    "      plt.ylim([0,1])\n",
    "      plt.legend()\n",
    "\n",
    "      plt.figure()\n",
    "      plt.xlabel('Epoch')\n",
    "      plt.ylabel('loss')\n",
    "      plt.plot(hist['epoch'], hist['loss'],\n",
    "               label='Train Loss')\n",
    "      plt.plot(hist['epoch'], hist['val_loss'],\n",
    "               label = 'Val Loss')\n",
    "      plt.ylim([0,5])\n",
    "      plt.legend()\n",
    "\n",
    "      plt.show()\n",
    "plot_history(history)"
   ]
  },
  {
   "cell_type": "code",
   "execution_count": 311,
   "metadata": {},
   "outputs": [
    {
     "name": "stdout",
     "output_type": "stream",
     "text": [
      "Found 400000 word vectors.\n"
     ]
    }
   ],
   "source": [
    "embeddings_index = {}\n",
    "f = open(r'C:\\Users\\srika\\OneDrive\\Desktop\\Fall19\\DeepLearningForNLP\\Assignment2\\glove.6B.100d.txt',encoding='utf8')\n",
    "for line in f:\n",
    "    values = line.split()\n",
    "    word = values[0]\n",
    "    coefs = np.asarray(values[1:], dtype='float32')\n",
    "    embeddings_index[word] = coefs\n",
    "f.close()\n",
    "\n",
    "print('Found %s word vectors.' % len(embeddings_index))"
   ]
  },
  {
   "cell_type": "code",
   "execution_count": 312,
   "metadata": {},
   "outputs": [],
   "source": [
    "embedding_matrix = np.zeros((len(word_index) + 1, 100))\n",
    "for word, i in word_index.items():\n",
    "    embedding_vector = embeddings_index.get(word)\n",
    "    if embedding_vector is not None:\n",
    "        # words not found in embedding index will be all-zeros.\n",
    "        embedding_matrix[i] = embedding_vector"
   ]
  },
  {
   "cell_type": "code",
   "execution_count": 313,
   "metadata": {},
   "outputs": [],
   "source": [
    "from keras.layers import Embedding\n",
    "\n",
    "embedding_layer = Embedding(len(word_index) + 1,\n",
    "                            100,\n",
    "                            weights=[embedding_matrix],\n",
    "                            input_length=52,\n",
    "                            trainable=False,mask_zero=True)"
   ]
  },
  {
   "cell_type": "code",
   "execution_count": 314,
   "metadata": {},
   "outputs": [
    {
     "name": "stdout",
     "output_type": "stream",
     "text": [
      "Model: \"sequential_41\"\n",
      "_________________________________________________________________\n",
      "Layer (type)                 Output Shape              Param #   \n",
      "=================================================================\n",
      "embedding_10 (Embedding)     (None, 52, 100)           1937800   \n",
      "_________________________________________________________________\n",
      "gru_11 (GRU)                 (None, 100)               60300     \n",
      "_________________________________________________________________\n",
      "dense_38 (Dense)             (None, 1)                 101       \n",
      "=================================================================\n",
      "Total params: 1,998,201\n",
      "Trainable params: 60,401\n",
      "Non-trainable params: 1,937,800\n",
      "_________________________________________________________________\n",
      "None\n"
     ]
    }
   ],
   "source": [
    "GRU_model=GRUfunction(wordvector_dim=100,embedding_matrix=embedding_matrix,sequence_length=50,learning_rate=0.001,hiddenUnits=100)"
   ]
  },
  {
   "cell_type": "code",
   "execution_count": 315,
   "metadata": {},
   "outputs": [
    {
     "name": "stdout",
     "output_type": "stream",
     "text": [
      "Train on 8544 samples, validate on 1101 samples\n",
      "Epoch 1/5\n",
      "8544/8544 [==============================] - 33s 4ms/step - loss: 0.6753 - accuracy: 0.5721 - val_loss: 0.6396 - val_accuracy: 0.6367\n",
      "Epoch 2/5\n",
      "8544/8544 [==============================] - 32s 4ms/step - loss: 0.6292 - accuracy: 0.6464 - val_loss: 0.5779 - val_accuracy: 0.6994\n",
      "Epoch 3/5\n",
      "8544/8544 [==============================] - 31s 4ms/step - loss: 0.5794 - accuracy: 0.7042 - val_loss: 0.5465 - val_accuracy: 0.7321\n",
      "Epoch 4/5\n",
      "8544/8544 [==============================] - 32s 4ms/step - loss: 0.5507 - accuracy: 0.7213 - val_loss: 0.5285 - val_accuracy: 0.7330\n",
      "Epoch 5/5\n",
      "8544/8544 [==============================] - 32s 4ms/step - loss: 0.5344 - accuracy: 0.7343 - val_loss: 0.5217 - val_accuracy: 0.7339\n"
     ]
    }
   ],
   "source": [
    "history=GRU_model.fit(np.array(X_train),np.array(y_train),batch_size=512,epochs=5,validation_data=(np.array(X_dev),np.array(y_dev)))"
   ]
  },
  {
   "cell_type": "code",
   "execution_count": 316,
   "metadata": {},
   "outputs": [
    {
     "data": {
      "image/png": "[encoded data removed]",
      "text/plain": [
       "<Figure size 432x288 with 1 Axes>"
      ]
     },
     "metadata": {
      "needs_background": "light"
     },
     "output_type": "display_data"
    },
    {
     "data": {
      "image/png": "[encoded data removed]",
      "text/plain": [
       "<Figure size 432x288 with 1 Axes>"
      ]
     },
     "metadata": {
      "needs_background": "light"
     },
     "output_type": "display_data"
    }
   ],
   "source": [
    "hist = pd.DataFrame(history.history)\n",
    "hist['epoch'] = history.epoch\n",
    "def plot_history(history):\n",
    "    \n",
    "      hist = pd.DataFrame(history.history)\n",
    "      hist['epoch'] = history.epoch\n",
    "\n",
    "      plt.figure()\n",
    "      plt.xlabel('Epoch')\n",
    "      plt.ylabel('Accuracy')\n",
    "      plt.plot(hist['epoch'], hist['accuracy'],\n",
    "               label='Train Accuracy')\n",
    "      plt.plot(hist['epoch'], hist['val_accuracy'],\n",
    "               label = 'Val Accuracy')\n",
    "      plt.ylim([0,1])\n",
    "      plt.legend()\n",
    "\n",
    "      plt.figure()\n",
    "      plt.xlabel('Epoch')\n",
    "      plt.ylabel('loss')\n",
    "      plt.plot(hist['epoch'], hist['loss'],\n",
    "               label='Train Loss')\n",
    "      plt.plot(hist['epoch'], hist['val_loss'],\n",
    "               label = 'Val Loss')\n",
    "      plt.ylim([0,5])\n",
    "      plt.legend()\n",
    "\n",
    "      plt.show()\n",
    "plot_history(history)"
   ]
  },
  {
   "cell_type": "markdown",
   "metadata": {},
   "source": [
    "As we check from different Global word co-occurance matrices for 50 dimension,100 dimension, and 300 dimension. The validation accuracy increases from lower dimensional matrix to higher dimensional matrix.The validation accuracy for 300 dimension is more because it best represents the word. So, It automatically best represents the sentnce as well. Almost loss is also same in both because through glove word embeddings the data can be represented in the best way.Basically Glove representation basically concentrates more on analogy tasks such as similar matrices. "
   ]
  },
  {
   "cell_type": "markdown",
   "metadata": {},
   "source": [
    "# Evaluating the Model"
   ]
  },
  {
   "cell_type": "markdown",
   "metadata": {},
   "source": [
    "# Best RNN model"
   ]
  },
  {
   "cell_type": "code",
   "execution_count": 35,
   "metadata": {},
   "outputs": [
    {
     "name": "stdout",
     "output_type": "stream",
     "text": [
      "Model: \"sequential_1\"\n",
      "_________________________________________________________________\n",
      "Layer (type)                 Output Shape              Param #   \n",
      "=================================================================\n",
      "embedding_1 (Embedding)      (None, 52, 300)           5813400   \n",
      "_________________________________________________________________\n",
      "simple_rnn_1 (SimpleRNN)     (None, 100)               40100     \n",
      "_________________________________________________________________\n",
      "dense_1 (Dense)              (None, 1)                 101       \n",
      "=================================================================\n",
      "Total params: 5,853,601\n",
      "Trainable params: 40,201\n",
      "Non-trainable params: 5,813,400\n",
      "_________________________________________________________________\n",
      "None\n"
     ]
    }
   ],
   "source": [
    "RNN_model=RNN(wordvector_dim=300,embedding_matrix=embedding_matrix,sequence_length=50,learning_rate=0.001,hiddenUnits=100)"
   ]
  },
  {
   "cell_type": "code",
   "execution_count": 36,
   "metadata": {},
   "outputs": [
    {
     "name": "stdout",
     "output_type": "stream",
     "text": [
      "Train on 8544 samples, validate on 1101 samples\n",
      "Epoch 1/5\n",
      "8544/8544 [==============================] - 4s 475us/step - loss: 0.6691 - accuracy: 0.5839 - val_loss: 0.5815 - val_accuracy: 0.7003\n",
      "Epoch 2/5\n",
      "8544/8544 [==============================] - 3s 367us/step - loss: 0.5714 - accuracy: 0.6992 - val_loss: 0.5687 - val_accuracy: 0.7130\n",
      "Epoch 3/5\n",
      "8544/8544 [==============================] - 3s 336us/step - loss: 0.5218 - accuracy: 0.7431 - val_loss: 0.5303 - val_accuracy: 0.7393\n",
      "Epoch 4/5\n",
      "8544/8544 [==============================] - 3s 405us/step - loss: 0.4964 - accuracy: 0.7571 - val_loss: 0.5185 - val_accuracy: 0.7484\n",
      "Epoch 5/5\n",
      "8544/8544 [==============================] - 3s 390us/step - loss: 0.4816 - accuracy: 0.7690 - val_loss: 0.5174 - val_accuracy: 0.7430\n"
     ]
    }
   ],
   "source": [
    "history=RNN_model.fit(np.array(X_train),np.array(y_train),batch_size=512,epochs=5,validation_data=(np.array(X_dev),np.array(y_dev)))"
   ]
  },
  {
   "cell_type": "code",
   "execution_count": 323,
   "metadata": {},
   "outputs": [
    {
     "name": "stdout",
     "output_type": "stream",
     "text": [
      "2210/2210 [==============================] - 5s 2ms/step\n"
     ]
    }
   ],
   "source": [
    "score,accuracy=RNN_model.evaluate(np.array(X_test),np.array(y_test),batch_size=512)"
   ]
  },
  {
   "cell_type": "code",
   "execution_count": 38,
   "metadata": {},
   "outputs": [
    {
     "name": "stdout",
     "output_type": "stream",
     "text": [
      "2210/2210 [==============================] - 1s 319us/step\n"
     ]
    }
   ],
   "source": [
    "y_pred=RNN_model.predict_classes(np.array(X_test),verbose=1)"
   ]
  },
  {
   "cell_type": "code",
   "execution_count": 39,
   "metadata": {},
   "outputs": [],
   "source": [
    "y_final_pred=[]\n",
    "for i in y_pred:\n",
    "    for j in i:\n",
    "        y_final_pred.append(j)"
   ]
  },
  {
   "cell_type": "code",
   "execution_count": 41,
   "metadata": {},
   "outputs": [],
   "source": [
    "from sklearn.metrics import recall_score,f1_score,precision_score\n",
    "recall_score_RNN=recall_score(y_test, y_final_pred, average='macro')\n",
    "f1_score_RNN=f1_score(y_test,y_final_pred,average='macro')\n",
    "precision_score_RNN=precision_score(y_test,y_final_pred,average='macro')"
   ]
  },
  {
   "cell_type": "markdown",
   "metadata": {},
   "source": [
    "Precision,Recall and F1-score"
   ]
  },
  {
   "cell_type": "code",
   "execution_count": 43,
   "metadata": {},
   "outputs": [
    {
     "name": "stdout",
     "output_type": "stream",
     "text": [
      "0.742188934501482 0.7423711671123028 0.7430928089517854\n"
     ]
    }
   ],
   "source": [
    "print(recall_score_RNN,f1_score_RNN,precision_score_RNN)"
   ]
  },
  {
   "cell_type": "markdown",
   "metadata": {},
   "source": [
    "# Best LSTM model"
   ]
  },
  {
   "cell_type": "code",
   "execution_count": 44,
   "metadata": {},
   "outputs": [
    {
     "name": "stdout",
     "output_type": "stream",
     "text": [
      "Model: \"sequential_2\"\n",
      "_________________________________________________________________\n",
      "Layer (type)                 Output Shape              Param #   \n",
      "=================================================================\n",
      "embedding_1 (Embedding)      (None, 52, 300)           5813400   \n",
      "_________________________________________________________________\n",
      "lstm_1 (LSTM)                (None, 100)               160400    \n",
      "_________________________________________________________________\n",
      "dense_2 (Dense)              (None, 1)                 101       \n",
      "=================================================================\n",
      "Total params: 5,973,901\n",
      "Trainable params: 160,501\n",
      "Non-trainable params: 5,813,400\n",
      "_________________________________________________________________\n",
      "None\n"
     ]
    }
   ],
   "source": [
    "LSTM_model=LSTMfunction(wordvector_dim=300,embedding_matrix=embedding_matrix,sequence_length=60,learning_rate=0.002,hiddenUnits=100)"
   ]
  },
  {
   "cell_type": "code",
   "execution_count": 46,
   "metadata": {},
   "outputs": [
    {
     "name": "stdout",
     "output_type": "stream",
     "text": [
      "Train on 8544 samples, validate on 1101 samples\n",
      "Epoch 1/5\n",
      "8544/8544 [==============================] - 10s 1ms/step - loss: 0.6368 - accuracy: 0.6284 - val_loss: 0.5319 - val_accuracy: 0.7430\n",
      "Epoch 2/5\n",
      "8544/8544 [==============================] - 9s 1ms/step - loss: 0.5317 - accuracy: 0.7328 - val_loss: 0.5127 - val_accuracy: 0.7520\n",
      "Epoch 3/5\n",
      "8544/8544 [==============================] - 15s 2ms/step - loss: 0.4915 - accuracy: 0.7543 - val_loss: 0.4833 - val_accuracy: 0.7657\n",
      "Epoch 4/5\n",
      "8544/8544 [==============================] - 11s 1ms/step - loss: 0.4627 - accuracy: 0.7765 - val_loss: 0.4808 - val_accuracy: 0.7666\n",
      "Epoch 5/5\n",
      "8544/8544 [==============================] - 13s 2ms/step - loss: 0.4385 - accuracy: 0.7912 - val_loss: 0.5030 - val_accuracy: 0.7629\n"
     ]
    }
   ],
   "source": [
    "history=LSTM_model.fit(np.array(X_train),np.array(y_train),batch_size=512,epochs=5,validation_data=(np.array(X_dev),np.array(y_dev)))"
   ]
  },
  {
   "cell_type": "code",
   "execution_count": 47,
   "metadata": {},
   "outputs": [
    {
     "name": "stdout",
     "output_type": "stream",
     "text": [
      "2210/2210 [==============================] - 2s 978us/step\n"
     ]
    }
   ],
   "source": [
    "y_pred=LSTM_model.predict_classes(np.array(X_test),verbose=1)"
   ]
  },
  {
   "cell_type": "code",
   "execution_count": 48,
   "metadata": {},
   "outputs": [],
   "source": [
    "y_final_pred=[]\n",
    "for i in y_pred:\n",
    "    for j in i:\n",
    "        y_final_pred.append(j)"
   ]
  },
  {
   "cell_type": "code",
   "execution_count": 51,
   "metadata": {},
   "outputs": [],
   "source": [
    "from sklearn.metrics import recall_score,f1_score,precision_score\n",
    "recall_score_LSTM=recall_score(y_test, y_final_pred, average='macro')\n",
    "f1_score_LSTM=f1_score(y_test,y_final_pred,average='macro')\n",
    "precision_score_LSTM=precision_score(y_test,y_final_pred,average='macro')"
   ]
  },
  {
   "cell_type": "code",
   "execution_count": 52,
   "metadata": {},
   "outputs": [
    {
     "name": "stdout",
     "output_type": "stream",
     "text": [
      "0.7542289103690685 0.7521720082519812 0.7566387059457286\n"
     ]
    }
   ],
   "source": [
    "print(recall_score_LSTM,f1_score_LSTM,precision_score_LSTM)"
   ]
  },
  {
   "cell_type": "markdown",
   "metadata": {},
   "source": [
    "# Best Model for GRU"
   ]
  },
  {
   "cell_type": "code",
   "execution_count": 56,
   "metadata": {},
   "outputs": [
    {
     "name": "stdout",
     "output_type": "stream",
     "text": [
      "Model: \"sequential_5\"\n",
      "_________________________________________________________________\n",
      "Layer (type)                 Output Shape              Param #   \n",
      "=================================================================\n",
      "embedding_1 (Embedding)      (None, 52, 300)           5813400   \n",
      "_________________________________________________________________\n",
      "gru_3 (GRU)                  (None, 100)               120300    \n",
      "_________________________________________________________________\n",
      "dense_5 (Dense)              (None, 1)                 101       \n",
      "=================================================================\n",
      "Total params: 5,933,801\n",
      "Trainable params: 120,401\n",
      "Non-trainable params: 5,813,400\n",
      "_________________________________________________________________\n",
      "None\n"
     ]
    }
   ],
   "source": [
    "GRU_model=GRUfunction(wordvector_dim=300,embedding_matrix=embedding_matrix,sequence_length=50,learning_rate=0.002,hiddenUnits=100)"
   ]
  },
  {
   "cell_type": "code",
   "execution_count": 57,
   "metadata": {},
   "outputs": [
    {
     "name": "stdout",
     "output_type": "stream",
     "text": [
      "Train on 8544 samples, validate on 1101 samples\n",
      "Epoch 1/5\n",
      "8544/8544 [==============================] - 9s 1ms/step - loss: 0.6369 - accuracy: 0.6214 - val_loss: 0.5599 - val_accuracy: 0.7148\n",
      "Epoch 2/5\n",
      "8544/8544 [==============================] - 8s 949us/step - loss: 0.5265 - accuracy: 0.7395 - val_loss: 0.5006 - val_accuracy: 0.7611\n",
      "Epoch 3/5\n",
      "8544/8544 [==============================] - 8s 985us/step - loss: 0.4793 - accuracy: 0.7677 - val_loss: 0.4824 - val_accuracy: 0.7684\n",
      "Epoch 4/5\n",
      "8544/8544 [==============================] - 7s 833us/step - loss: 0.4550 - accuracy: 0.7820 - val_loss: 0.4734 - val_accuracy: 0.7729\n",
      "Epoch 5/5\n",
      "8544/8544 [==============================] - 8s 974us/step - loss: 0.4281 - accuracy: 0.7993 - val_loss: 0.4685 - val_accuracy: 0.7847\n"
     ]
    }
   ],
   "source": [
    "history=GRU_model.fit(np.array(X_train),np.array(y_train),batch_size=512,epochs=5,validation_data=(np.array(X_dev),np.array(y_dev)))"
   ]
  },
  {
   "cell_type": "code",
   "execution_count": 58,
   "metadata": {},
   "outputs": [
    {
     "name": "stdout",
     "output_type": "stream",
     "text": [
      "2210/2210 [==============================] - 2s 873us/step\n"
     ]
    }
   ],
   "source": [
    "y_pred=GRU_model.predict_classes(np.array(X_test),verbose=1)"
   ]
  },
  {
   "cell_type": "code",
   "execution_count": 59,
   "metadata": {},
   "outputs": [],
   "source": [
    "y_final_pred=[]\n",
    "for i in y_pred:\n",
    "    for j in i:\n",
    "        y_final_pred.append(j)"
   ]
  },
  {
   "cell_type": "code",
   "execution_count": 60,
   "metadata": {},
   "outputs": [],
   "source": [
    "from sklearn.metrics import recall_score,f1_score,precision_score\n",
    "recall_score_GRU=recall_score(y_test, y_final_pred, average='macro')\n",
    "f1_score_GRU=f1_score(y_test,y_final_pred,average='macro')\n",
    "precision_score_GRU=precision_score(y_test,y_final_pred,average='macro')"
   ]
  },
  {
   "cell_type": "code",
   "execution_count": 61,
   "metadata": {},
   "outputs": [
    {
     "name": "stdout",
     "output_type": "stream",
     "text": [
      "0.7684976916821866 0.7682572763676163 0.7682637182637182\n"
     ]
    }
   ],
   "source": [
    "print(recall_score_GRU,f1_score_GRU,precision_score_GRU)"
   ]
  },
  {
   "cell_type": "markdown",
   "metadata": {},
   "source": [
    "# Comparing the models:\n"
   ]
  },
  {
   "cell_type": "markdown",
   "metadata": {},
   "source": [
    "->Almost all the values are similar like F-score,Recall_score and Precision Score\n",
    "->F-score is basically calculated to seek a balance between precision and recall and when when there is an uneven class of distribution.\n",
    "->As we can see the F score measure also high so we can say that it works fine\n",
    "->In precision the denominator counts total predicted positive so by this we can say how accuarate our model is in all the three models comparitively Precision is higher\n",
    "->Recall also playes a key role by saying how many positives our model calculated.\n",
    "->In all the three models GRU model comapritively performs better as we can say that by checking the above metrics."
   ]
  },
  {
   "cell_type": "markdown",
   "metadata": {},
   "source": [
    "# Observations from three Different models"
   ]
  },
  {
   "cell_type": "markdown",
   "metadata": {},
   "source": [
    "An RNN cell is a node in a neural network which is connected to itself. The output of the cell serves as the input to the cell. The first word is the first input to this cell. The output of this cell is used as the input to the cell again in addition to the second word and so forth till we reach the last word. Finally the output might be used in further layers to produce an output which represents the sentiment.In Rnn's there is a problem called vanishing gradient problem here comes LSTM into role.\n",
    "what actaully LSTM means Long short term memory RNN's cant find the similarities between long distance dependencies whereas LSTM can find by using gates they are input,forget and output that store long and short term memories. from the above validation accuracy we can actually find LSTM performs better than RNN.GRU is a simplified version of LSTM. Instead of three gates. It has two gates (reset and update). Because of their simplicity GRU's sometimes give better results than LSTM's but not always. It is up to the data scientist to figure out what to use. In our model GRU performs almost better in many instances.It is the best model by far.As we can notice it through by accuracy.\n"
   ]
  }
 ],
 "metadata": {
  "kernelspec": {
   "display_name": "Python 3",
   "language": "python",
   "name": "python3"
  },
  "language_info": {
   "codemirror_mode": {
    "name": "ipython",
    "version": 3
   },
   "file_extension": ".py",
   "mimetype": "text/x-python",
   "name": "python",
   "nbconvert_exporter": "python",
   "pygments_lexer": "ipython3",
   "version": "3.7.1"
  }
 },
 "nbformat": 4,
 "nbformat_minor": 2
}
